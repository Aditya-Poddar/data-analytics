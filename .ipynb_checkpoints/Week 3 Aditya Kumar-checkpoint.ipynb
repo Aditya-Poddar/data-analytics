{
 "cells": [
  {
   "cell_type": "code",
   "execution_count": 39,
   "id": "e2b81005",
   "metadata": {},
   "outputs": [],
   "source": [
    "# importing the required libray.\n",
    "import numpy as np\n",
    "import pandas as pd\n",
    "import matplotlib.pyplot as plt\n",
    "import seaborn as sns\n",
    "%matplotlib inline"
   ]
  },
  {
   "cell_type": "code",
   "execution_count": 40,
   "id": "07738335",
   "metadata": {},
   "outputs": [],
   "source": [
    "# reading the provided data set.\n",
    "df =pd.read_csv('test.csv')"
   ]
  },
  {
   "cell_type": "code",
   "execution_count": 41,
   "id": "6030e4bd",
   "metadata": {},
   "outputs": [
    {
     "data": {
      "text/html": [
       "<div>\n",
       "<style scoped>\n",
       "    .dataframe tbody tr th:only-of-type {\n",
       "        vertical-align: middle;\n",
       "    }\n",
       "\n",
       "    .dataframe tbody tr th {\n",
       "        vertical-align: top;\n",
       "    }\n",
       "\n",
       "    .dataframe thead th {\n",
       "        text-align: right;\n",
       "    }\n",
       "</style>\n",
       "<table border=\"1\" class=\"dataframe\">\n",
       "  <thead>\n",
       "    <tr style=\"text-align: right;\">\n",
       "      <th></th>\n",
       "      <th>key</th>\n",
       "      <th>pickup_datetime</th>\n",
       "      <th>pickup_longitude</th>\n",
       "      <th>pickup_latitude</th>\n",
       "      <th>dropoff_longitude</th>\n",
       "      <th>dropoff_latitude</th>\n",
       "      <th>passenger_count</th>\n",
       "    </tr>\n",
       "  </thead>\n",
       "  <tbody>\n",
       "    <tr>\n",
       "      <th>0</th>\n",
       "      <td>2015-01-27 13:08:24.0000002</td>\n",
       "      <td>2015-01-27 13:08:24 UTC</td>\n",
       "      <td>-73.973320</td>\n",
       "      <td>40.763805</td>\n",
       "      <td>-73.981430</td>\n",
       "      <td>40.743835</td>\n",
       "      <td>1</td>\n",
       "    </tr>\n",
       "    <tr>\n",
       "      <th>1</th>\n",
       "      <td>2015-01-27 13:08:24.0000003</td>\n",
       "      <td>2015-01-27 13:08:24 UTC</td>\n",
       "      <td>-73.986862</td>\n",
       "      <td>40.719383</td>\n",
       "      <td>-73.998886</td>\n",
       "      <td>40.739201</td>\n",
       "      <td>1</td>\n",
       "    </tr>\n",
       "    <tr>\n",
       "      <th>2</th>\n",
       "      <td>2011-10-08 11:53:44.0000002</td>\n",
       "      <td>2011-10-08 11:53:44 UTC</td>\n",
       "      <td>-73.982524</td>\n",
       "      <td>40.751260</td>\n",
       "      <td>-73.979654</td>\n",
       "      <td>40.746139</td>\n",
       "      <td>1</td>\n",
       "    </tr>\n",
       "    <tr>\n",
       "      <th>3</th>\n",
       "      <td>2012-12-01 21:12:12.0000002</td>\n",
       "      <td>2012-12-01 21:12:12 UTC</td>\n",
       "      <td>-73.981160</td>\n",
       "      <td>40.767807</td>\n",
       "      <td>-73.990448</td>\n",
       "      <td>40.751635</td>\n",
       "      <td>1</td>\n",
       "    </tr>\n",
       "    <tr>\n",
       "      <th>4</th>\n",
       "      <td>2012-12-01 21:12:12.0000003</td>\n",
       "      <td>2012-12-01 21:12:12 UTC</td>\n",
       "      <td>-73.966046</td>\n",
       "      <td>40.789775</td>\n",
       "      <td>-73.988565</td>\n",
       "      <td>40.744427</td>\n",
       "      <td>1</td>\n",
       "    </tr>\n",
       "    <tr>\n",
       "      <th>5</th>\n",
       "      <td>2012-12-01 21:12:12.0000005</td>\n",
       "      <td>2012-12-01 21:12:12 UTC</td>\n",
       "      <td>-73.960983</td>\n",
       "      <td>40.765547</td>\n",
       "      <td>-73.979177</td>\n",
       "      <td>40.740053</td>\n",
       "      <td>1</td>\n",
       "    </tr>\n",
       "    <tr>\n",
       "      <th>6</th>\n",
       "      <td>2011-10-06 12:10:20.0000001</td>\n",
       "      <td>2011-10-06 12:10:20 UTC</td>\n",
       "      <td>-73.949013</td>\n",
       "      <td>40.773204</td>\n",
       "      <td>-73.959622</td>\n",
       "      <td>40.770893</td>\n",
       "      <td>1</td>\n",
       "    </tr>\n",
       "    <tr>\n",
       "      <th>7</th>\n",
       "      <td>2011-10-06 12:10:20.0000003</td>\n",
       "      <td>2011-10-06 12:10:20 UTC</td>\n",
       "      <td>-73.777282</td>\n",
       "      <td>40.646636</td>\n",
       "      <td>-73.985083</td>\n",
       "      <td>40.759368</td>\n",
       "      <td>1</td>\n",
       "    </tr>\n",
       "    <tr>\n",
       "      <th>8</th>\n",
       "      <td>2011-10-06 12:10:20.0000002</td>\n",
       "      <td>2011-10-06 12:10:20 UTC</td>\n",
       "      <td>-74.014099</td>\n",
       "      <td>40.709638</td>\n",
       "      <td>-73.995106</td>\n",
       "      <td>40.741365</td>\n",
       "      <td>1</td>\n",
       "    </tr>\n",
       "    <tr>\n",
       "      <th>9</th>\n",
       "      <td>2014-02-18 15:22:20.0000002</td>\n",
       "      <td>2014-02-18 15:22:20 UTC</td>\n",
       "      <td>-73.969582</td>\n",
       "      <td>40.765519</td>\n",
       "      <td>-73.980686</td>\n",
       "      <td>40.770725</td>\n",
       "      <td>1</td>\n",
       "    </tr>\n",
       "  </tbody>\n",
       "</table>\n",
       "</div>"
      ],
      "text/plain": [
       "                           key          pickup_datetime  pickup_longitude  \\\n",
       "0  2015-01-27 13:08:24.0000002  2015-01-27 13:08:24 UTC        -73.973320   \n",
       "1  2015-01-27 13:08:24.0000003  2015-01-27 13:08:24 UTC        -73.986862   \n",
       "2  2011-10-08 11:53:44.0000002  2011-10-08 11:53:44 UTC        -73.982524   \n",
       "3  2012-12-01 21:12:12.0000002  2012-12-01 21:12:12 UTC        -73.981160   \n",
       "4  2012-12-01 21:12:12.0000003  2012-12-01 21:12:12 UTC        -73.966046   \n",
       "5  2012-12-01 21:12:12.0000005  2012-12-01 21:12:12 UTC        -73.960983   \n",
       "6  2011-10-06 12:10:20.0000001  2011-10-06 12:10:20 UTC        -73.949013   \n",
       "7  2011-10-06 12:10:20.0000003  2011-10-06 12:10:20 UTC        -73.777282   \n",
       "8  2011-10-06 12:10:20.0000002  2011-10-06 12:10:20 UTC        -74.014099   \n",
       "9  2014-02-18 15:22:20.0000002  2014-02-18 15:22:20 UTC        -73.969582   \n",
       "\n",
       "   pickup_latitude  dropoff_longitude  dropoff_latitude  passenger_count  \n",
       "0        40.763805         -73.981430         40.743835                1  \n",
       "1        40.719383         -73.998886         40.739201                1  \n",
       "2        40.751260         -73.979654         40.746139                1  \n",
       "3        40.767807         -73.990448         40.751635                1  \n",
       "4        40.789775         -73.988565         40.744427                1  \n",
       "5        40.765547         -73.979177         40.740053                1  \n",
       "6        40.773204         -73.959622         40.770893                1  \n",
       "7        40.646636         -73.985083         40.759368                1  \n",
       "8        40.709638         -73.995106         40.741365                1  \n",
       "9        40.765519         -73.980686         40.770725                1  "
      ]
     },
     "execution_count": 41,
     "metadata": {},
     "output_type": "execute_result"
    }
   ],
   "source": [
    "# reading first 10 rows from data set.\n",
    "df.head(10)"
   ]
  },
  {
   "cell_type": "code",
   "execution_count": 42,
   "id": "4c2329a1",
   "metadata": {},
   "outputs": [
    {
     "name": "stdout",
     "output_type": "stream",
     "text": [
      "<class 'pandas.core.frame.DataFrame'>\n",
      "RangeIndex: 9914 entries, 0 to 9913\n",
      "Data columns (total 7 columns):\n",
      " #   Column             Non-Null Count  Dtype  \n",
      "---  ------             --------------  -----  \n",
      " 0   key                9914 non-null   object \n",
      " 1   pickup_datetime    9914 non-null   object \n",
      " 2   pickup_longitude   9914 non-null   float64\n",
      " 3   pickup_latitude    9914 non-null   float64\n",
      " 4   dropoff_longitude  9914 non-null   float64\n",
      " 5   dropoff_latitude   9914 non-null   float64\n",
      " 6   passenger_count    9914 non-null   int64  \n",
      "dtypes: float64(4), int64(1), object(2)\n",
      "memory usage: 542.3+ KB\n"
     ]
    }
   ],
   "source": [
    "# viewing the information about dataset.\n",
    "df.info()"
   ]
  },
  {
   "cell_type": "code",
   "execution_count": 43,
   "id": "4297106a",
   "metadata": {},
   "outputs": [
    {
     "data": {
      "text/html": [
       "<div>\n",
       "<style scoped>\n",
       "    .dataframe tbody tr th:only-of-type {\n",
       "        vertical-align: middle;\n",
       "    }\n",
       "\n",
       "    .dataframe tbody tr th {\n",
       "        vertical-align: top;\n",
       "    }\n",
       "\n",
       "    .dataframe thead th {\n",
       "        text-align: right;\n",
       "    }\n",
       "</style>\n",
       "<table border=\"1\" class=\"dataframe\">\n",
       "  <thead>\n",
       "    <tr style=\"text-align: right;\">\n",
       "      <th></th>\n",
       "      <th>pickup_longitude</th>\n",
       "      <th>pickup_latitude</th>\n",
       "      <th>dropoff_longitude</th>\n",
       "      <th>dropoff_latitude</th>\n",
       "      <th>passenger_count</th>\n",
       "    </tr>\n",
       "  </thead>\n",
       "  <tbody>\n",
       "    <tr>\n",
       "      <th>count</th>\n",
       "      <td>9914.000000</td>\n",
       "      <td>9914.000000</td>\n",
       "      <td>9914.000000</td>\n",
       "      <td>9914.000000</td>\n",
       "      <td>9914.000000</td>\n",
       "    </tr>\n",
       "    <tr>\n",
       "      <th>mean</th>\n",
       "      <td>-73.974722</td>\n",
       "      <td>40.751041</td>\n",
       "      <td>-73.973657</td>\n",
       "      <td>40.751743</td>\n",
       "      <td>1.671273</td>\n",
       "    </tr>\n",
       "    <tr>\n",
       "      <th>std</th>\n",
       "      <td>0.042774</td>\n",
       "      <td>0.033541</td>\n",
       "      <td>0.039072</td>\n",
       "      <td>0.035435</td>\n",
       "      <td>1.278747</td>\n",
       "    </tr>\n",
       "    <tr>\n",
       "      <th>min</th>\n",
       "      <td>-74.252193</td>\n",
       "      <td>40.573143</td>\n",
       "      <td>-74.263242</td>\n",
       "      <td>40.568973</td>\n",
       "      <td>1.000000</td>\n",
       "    </tr>\n",
       "    <tr>\n",
       "      <th>25%</th>\n",
       "      <td>-73.992501</td>\n",
       "      <td>40.736125</td>\n",
       "      <td>-73.991247</td>\n",
       "      <td>40.735254</td>\n",
       "      <td>1.000000</td>\n",
       "    </tr>\n",
       "    <tr>\n",
       "      <th>50%</th>\n",
       "      <td>-73.982326</td>\n",
       "      <td>40.753051</td>\n",
       "      <td>-73.980015</td>\n",
       "      <td>40.754065</td>\n",
       "      <td>1.000000</td>\n",
       "    </tr>\n",
       "    <tr>\n",
       "      <th>75%</th>\n",
       "      <td>-73.968013</td>\n",
       "      <td>40.767113</td>\n",
       "      <td>-73.964059</td>\n",
       "      <td>40.768757</td>\n",
       "      <td>2.000000</td>\n",
       "    </tr>\n",
       "    <tr>\n",
       "      <th>max</th>\n",
       "      <td>-72.986532</td>\n",
       "      <td>41.709555</td>\n",
       "      <td>-72.990963</td>\n",
       "      <td>41.696683</td>\n",
       "      <td>6.000000</td>\n",
       "    </tr>\n",
       "  </tbody>\n",
       "</table>\n",
       "</div>"
      ],
      "text/plain": [
       "       pickup_longitude  pickup_latitude  dropoff_longitude  dropoff_latitude  \\\n",
       "count       9914.000000      9914.000000        9914.000000       9914.000000   \n",
       "mean         -73.974722        40.751041         -73.973657         40.751743   \n",
       "std            0.042774         0.033541           0.039072          0.035435   \n",
       "min          -74.252193        40.573143         -74.263242         40.568973   \n",
       "25%          -73.992501        40.736125         -73.991247         40.735254   \n",
       "50%          -73.982326        40.753051         -73.980015         40.754065   \n",
       "75%          -73.968013        40.767113         -73.964059         40.768757   \n",
       "max          -72.986532        41.709555         -72.990963         41.696683   \n",
       "\n",
       "       passenger_count  \n",
       "count      9914.000000  \n",
       "mean          1.671273  \n",
       "std           1.278747  \n",
       "min           1.000000  \n",
       "25%           1.000000  \n",
       "50%           1.000000  \n",
       "75%           2.000000  \n",
       "max           6.000000  "
      ]
     },
     "execution_count": 43,
     "metadata": {},
     "output_type": "execute_result"
    }
   ],
   "source": [
    "# describing the stats of the dataset.\n",
    "df.describe()"
   ]
  },
  {
   "cell_type": "markdown",
   "id": "487487c5",
   "metadata": {},
   "source": [
    "### 1. What is the data type of each column in the dataset, and how might the data types affect the analysis and visualization of the data?"
   ]
  },
  {
   "cell_type": "code",
   "execution_count": 23,
   "id": "e19eba57",
   "metadata": {},
   "outputs": [
    {
     "data": {
      "text/plain": [
       "key                   object\n",
       "pickup_datetime       object\n",
       "pickup_longitude     float64\n",
       "pickup_latitude      float64\n",
       "dropoff_longitude    float64\n",
       "dropoff_latitude     float64\n",
       "passenger_count        int64\n",
       "dtype: object"
      ]
     },
     "execution_count": 23,
     "metadata": {},
     "output_type": "execute_result"
    }
   ],
   "source": [
    "df.dtypes"
   ]
  },
  {
   "cell_type": "markdown",
   "id": "590f944e",
   "metadata": {},
   "source": [
    "### 2. How many rows are in the dataset, and how might the size of the dataset affect the efficiency and accuracy of the analysis?"
   ]
  },
  {
   "cell_type": "code",
   "execution_count": 24,
   "id": "5e0a55e3",
   "metadata": {},
   "outputs": [
    {
     "data": {
      "text/plain": [
       "9914"
      ]
     },
     "execution_count": 24,
     "metadata": {},
     "output_type": "execute_result"
    }
   ],
   "source": [
    "len(df)"
   ]
  },
  {
   "cell_type": "code",
   "execution_count": 5,
   "id": "eda8cc57",
   "metadata": {},
   "outputs": [
    {
     "data": {
      "text/plain": [
       "(9914, 7)"
      ]
     },
     "execution_count": 5,
     "metadata": {},
     "output_type": "execute_result"
    }
   ],
   "source": [
    "df.shape"
   ]
  },
  {
   "cell_type": "code",
   "execution_count": 18,
   "id": "f7913bef",
   "metadata": {},
   "outputs": [
    {
     "data": {
      "text/plain": [
       "key                  9914\n",
       "pickup_datetime      9914\n",
       "pickup_longitude     9914\n",
       "pickup_latitude      9914\n",
       "dropoff_longitude    9914\n",
       "dropoff_latitude     9914\n",
       "passenger_count      9914\n",
       "dtype: int64"
      ]
     },
     "execution_count": 18,
     "metadata": {},
     "output_type": "execute_result"
    }
   ],
   "source": [
    "df.isnull().count()"
   ]
  },
  {
   "cell_type": "markdown",
   "id": "05c70fd6",
   "metadata": {},
   "source": [
    "### 3. How many unique values are there in the 'passenger_count' column, and what insights might this provide about the user behavior or demand patterns?"
   ]
  },
  {
   "cell_type": "code",
   "execution_count": 28,
   "id": "b052ffad",
   "metadata": {},
   "outputs": [
    {
     "data": {
      "text/plain": [
       "array([1, 2, 3, 4, 5, 6], dtype=int64)"
      ]
     },
     "execution_count": 28,
     "metadata": {},
     "output_type": "execute_result"
    }
   ],
   "source": [
    "df['passenger_count'].unique()"
   ]
  },
  {
   "cell_type": "code",
   "execution_count": null,
   "id": "652274c1",
   "metadata": {},
   "outputs": [],
   "source": []
  },
  {
   "cell_type": "markdown",
   "id": "2de533d9",
   "metadata": {},
   "source": [
    "### 4. What is the maximum longitude value in the dataset, and how might this value affect the spatial analysis or visualization of the data?"
   ]
  },
  {
   "cell_type": "code",
   "execution_count": 31,
   "id": "8a147737",
   "metadata": {},
   "outputs": [
    {
     "data": {
      "text/plain": [
       "-72.986532"
      ]
     },
     "execution_count": 31,
     "metadata": {},
     "output_type": "execute_result"
    }
   ],
   "source": [
    "df['pickup_longitude'].max()"
   ]
  },
  {
   "cell_type": "code",
   "execution_count": 30,
   "id": "644a6752",
   "metadata": {},
   "outputs": [
    {
     "data": {
      "text/plain": [
       "-72.990963"
      ]
     },
     "execution_count": 30,
     "metadata": {},
     "output_type": "execute_result"
    }
   ],
   "source": [
    "df['dropoff_longitude'].max()"
   ]
  },
  {
   "cell_type": "code",
   "execution_count": 33,
   "id": "a00a56c7",
   "metadata": {},
   "outputs": [
    {
     "data": {
      "text/plain": [
       "key                  2015-06-30 20:03:50.0000005\n",
       "pickup_datetime          2015-06-30 20:03:50 UTC\n",
       "pickup_longitude                      -72.986532\n",
       "pickup_latitude                        41.709555\n",
       "dropoff_longitude                     -72.990963\n",
       "dropoff_latitude                       41.696683\n",
       "passenger_count                                6\n",
       "dtype: object"
      ]
     },
     "execution_count": 33,
     "metadata": {},
     "output_type": "execute_result"
    }
   ],
   "source": [
    "df.max()"
   ]
  },
  {
   "cell_type": "markdown",
   "id": "54c80277",
   "metadata": {},
   "source": [
    "### 5. What is the average latitude value in the dataset, and how might this value provide insights into the spatial distribution or density of the pickups and dropoffs?"
   ]
  },
  {
   "cell_type": "code",
   "execution_count": 57,
   "id": "e2aaf8c3",
   "metadata": {},
   "outputs": [
    {
     "data": {
      "text/plain": [
       "40.75104072349318"
      ]
     },
     "execution_count": 57,
     "metadata": {},
     "output_type": "execute_result"
    }
   ],
   "source": [
    "df['pickup_latitude'].mean()"
   ]
  },
  {
   "cell_type": "code",
   "execution_count": 36,
   "id": "3f9bbc2a",
   "metadata": {},
   "outputs": [
    {
     "data": {
      "text/plain": [
       "40.75174278102696"
      ]
     },
     "execution_count": 36,
     "metadata": {},
     "output_type": "execute_result"
    }
   ],
   "source": [
    "df['dropoff_latitude'].mean()"
   ]
  },
  {
   "cell_type": "markdown",
   "id": "779d703f",
   "metadata": {},
   "source": [
    "### 6. What is the pickup_datetime of the first row in the dataset, and how might the timestamp format affect the temporal analysis or visualization of the data?"
   ]
  },
  {
   "cell_type": "code",
   "execution_count": 39,
   "id": "e46b947d",
   "metadata": {},
   "outputs": [
    {
     "data": {
      "text/plain": [
       "0    2015-01-27 13:08:24 UTC\n",
       "Name: pickup_datetime, dtype: object"
      ]
     },
     "execution_count": 39,
     "metadata": {},
     "output_type": "execute_result"
    }
   ],
   "source": [
    "df['pickup_datetime'].head(1)"
   ]
  },
  {
   "cell_type": "markdown",
   "id": "040ae756",
   "metadata": {},
   "source": [
    "### 7. How many rows have a passenger_count greater than 1, and what insights might this provide about the user behavior or demand patterns?"
   ]
  },
  {
   "cell_type": "code",
   "execution_count": 36,
   "id": "1ccb4876",
   "metadata": {},
   "outputs": [
    {
     "data": {
      "text/plain": [
       "3000"
      ]
     },
     "execution_count": 36,
     "metadata": {},
     "output_type": "execute_result"
    }
   ],
   "source": [
    "df['passenger_count'][df['passenger_count']>1].count()"
   ]
  },
  {
   "cell_type": "code",
   "execution_count": 38,
   "id": "e6748656",
   "metadata": {},
   "outputs": [
    {
     "data": {
      "text/plain": [
       "6914"
      ]
     },
     "execution_count": 38,
     "metadata": {},
     "output_type": "execute_result"
    }
   ],
   "source": [
    "df['passenger_count'][df['passenger_count']==1].count()"
   ]
  },
  {
   "cell_type": "markdown",
   "id": "3c7db8d3",
   "metadata": {},
   "source": [
    "### 8. What is the range of values in the pickup_latitude column, and how might this value affect the spatial analysis or visualization of the data?"
   ]
  },
  {
   "cell_type": "code",
   "execution_count": 62,
   "id": "b70380f1",
   "metadata": {},
   "outputs": [
    {
     "data": {
      "text/plain": [
       "40.573143"
      ]
     },
     "execution_count": 62,
     "metadata": {},
     "output_type": "execute_result"
    }
   ],
   "source": [
    "lower_value =df['pickup_latitude'].min()\n",
    "lower_value"
   ]
  },
  {
   "cell_type": "code",
   "execution_count": 63,
   "id": "852fc6c3",
   "metadata": {},
   "outputs": [
    {
     "data": {
      "text/plain": [
       "41.709555"
      ]
     },
     "execution_count": 63,
     "metadata": {},
     "output_type": "execute_result"
    }
   ],
   "source": [
    "higher_value=df['pickup_latitude'].max()\n",
    "higher_value"
   ]
  },
  {
   "cell_type": "code",
   "execution_count": 70,
   "id": "74914220",
   "metadata": {},
   "outputs": [
    {
     "name": "stdout",
     "output_type": "stream",
     "text": [
      "         lower_value higher_value\n",
      "range :  40.573143  -  41.709555\n"
     ]
    }
   ],
   "source": [
    "# range of values in the pickup_latitude column\n",
    "print(\"        \",\"lower_value\",\"higher_value\")\n",
    "print(\"range : \",lower_value,\" - \",higher_value)"
   ]
  },
  {
   "cell_type": "markdown",
   "id": "e7a342bf",
   "metadata": {},
   "source": [
    "### 9. How many rows have missing values, and how might the missing data affect the accuracy and reliability of the analysis?"
   ]
  },
  {
   "cell_type": "code",
   "execution_count": 84,
   "id": "c93ed0b0",
   "metadata": {},
   "outputs": [
    {
     "data": {
      "text/plain": [
       "key                  0\n",
       "pickup_datetime      0\n",
       "pickup_longitude     0\n",
       "pickup_latitude      0\n",
       "dropoff_longitude    0\n",
       "dropoff_latitude     0\n",
       "passenger_count      0\n",
       "dtype: int64"
      ]
     },
     "execution_count": 84,
     "metadata": {},
     "output_type": "execute_result"
    }
   ],
   "source": [
    "df.isna().sum()"
   ]
  },
  {
   "cell_type": "code",
   "execution_count": 85,
   "id": "30bb1df2",
   "metadata": {},
   "outputs": [
    {
     "data": {
      "text/plain": [
       "key                  0\n",
       "pickup_datetime      0\n",
       "pickup_longitude     0\n",
       "pickup_latitude      0\n",
       "dropoff_longitude    0\n",
       "dropoff_latitude     0\n",
       "passenger_count      0\n",
       "dtype: int64"
      ]
     },
     "execution_count": 85,
     "metadata": {},
     "output_type": "execute_result"
    }
   ],
   "source": [
    "df.isnull().sum()"
   ]
  },
  {
   "cell_type": "markdown",
   "id": "a5776c76",
   "metadata": {},
   "source": [
    "There is no missing row."
   ]
  },
  {
   "cell_type": "markdown",
   "id": "520cc1b1",
   "metadata": {},
   "source": [
    "### 10. What is the correlation between pickup_longitude and dropoff_longitude, and how might this correlation provide insights into the spatial relationships or patterns of the pickups and dropoffs?"
   ]
  },
  {
   "cell_type": "code",
   "execution_count": 7,
   "id": "8428e697",
   "metadata": {},
   "outputs": [
    {
     "data": {
      "text/html": [
       "<div>\n",
       "<style scoped>\n",
       "    .dataframe tbody tr th:only-of-type {\n",
       "        vertical-align: middle;\n",
       "    }\n",
       "\n",
       "    .dataframe tbody tr th {\n",
       "        vertical-align: top;\n",
       "    }\n",
       "\n",
       "    .dataframe thead th {\n",
       "        text-align: right;\n",
       "    }\n",
       "</style>\n",
       "<table border=\"1\" class=\"dataframe\">\n",
       "  <thead>\n",
       "    <tr style=\"text-align: right;\">\n",
       "      <th></th>\n",
       "      <th>pickup_longitude</th>\n",
       "      <th>dropoff_longitude</th>\n",
       "    </tr>\n",
       "  </thead>\n",
       "  <tbody>\n",
       "    <tr>\n",
       "      <th>pickup_longitude</th>\n",
       "      <td>1.000000</td>\n",
       "      <td>0.437949</td>\n",
       "    </tr>\n",
       "    <tr>\n",
       "      <th>dropoff_longitude</th>\n",
       "      <td>0.437949</td>\n",
       "      <td>1.000000</td>\n",
       "    </tr>\n",
       "  </tbody>\n",
       "</table>\n",
       "</div>"
      ],
      "text/plain": [
       "                   pickup_longitude  dropoff_longitude\n",
       "pickup_longitude           1.000000           0.437949\n",
       "dropoff_longitude          0.437949           1.000000"
      ]
     },
     "execution_count": 7,
     "metadata": {},
     "output_type": "execute_result"
    }
   ],
   "source": [
    "df[['pickup_longitude','dropoff_longitude']].corr()"
   ]
  },
  {
   "cell_type": "code",
   "execution_count": 8,
   "id": "c46ca2ba",
   "metadata": {},
   "outputs": [
    {
     "data": {
      "text/html": [
       "<div>\n",
       "<style scoped>\n",
       "    .dataframe tbody tr th:only-of-type {\n",
       "        vertical-align: middle;\n",
       "    }\n",
       "\n",
       "    .dataframe tbody tr th {\n",
       "        vertical-align: top;\n",
       "    }\n",
       "\n",
       "    .dataframe thead th {\n",
       "        text-align: right;\n",
       "    }\n",
       "</style>\n",
       "<table border=\"1\" class=\"dataframe\">\n",
       "  <thead>\n",
       "    <tr style=\"text-align: right;\">\n",
       "      <th></th>\n",
       "      <th>pickup_longitude</th>\n",
       "      <th>pickup_latitude</th>\n",
       "      <th>dropoff_longitude</th>\n",
       "      <th>dropoff_latitude</th>\n",
       "      <th>passenger_count</th>\n",
       "    </tr>\n",
       "  </thead>\n",
       "  <tbody>\n",
       "    <tr>\n",
       "      <th>pickup_longitude</th>\n",
       "      <td>1.000000</td>\n",
       "      <td>0.284509</td>\n",
       "      <td>0.437949</td>\n",
       "      <td>0.246595</td>\n",
       "      <td>0.006398</td>\n",
       "    </tr>\n",
       "    <tr>\n",
       "      <th>pickup_latitude</th>\n",
       "      <td>0.284509</td>\n",
       "      <td>1.000000</td>\n",
       "      <td>0.274527</td>\n",
       "      <td>0.520171</td>\n",
       "      <td>-0.025120</td>\n",
       "    </tr>\n",
       "    <tr>\n",
       "      <th>dropoff_longitude</th>\n",
       "      <td>0.437949</td>\n",
       "      <td>0.274527</td>\n",
       "      <td>1.000000</td>\n",
       "      <td>0.344918</td>\n",
       "      <td>0.012389</td>\n",
       "    </tr>\n",
       "    <tr>\n",
       "      <th>dropoff_latitude</th>\n",
       "      <td>0.246595</td>\n",
       "      <td>0.520171</td>\n",
       "      <td>0.344918</td>\n",
       "      <td>1.000000</td>\n",
       "      <td>0.005606</td>\n",
       "    </tr>\n",
       "    <tr>\n",
       "      <th>passenger_count</th>\n",
       "      <td>0.006398</td>\n",
       "      <td>-0.025120</td>\n",
       "      <td>0.012389</td>\n",
       "      <td>0.005606</td>\n",
       "      <td>1.000000</td>\n",
       "    </tr>\n",
       "  </tbody>\n",
       "</table>\n",
       "</div>"
      ],
      "text/plain": [
       "                   pickup_longitude  pickup_latitude  dropoff_longitude  \\\n",
       "pickup_longitude           1.000000         0.284509           0.437949   \n",
       "pickup_latitude            0.284509         1.000000           0.274527   \n",
       "dropoff_longitude          0.437949         0.274527           1.000000   \n",
       "dropoff_latitude           0.246595         0.520171           0.344918   \n",
       "passenger_count            0.006398        -0.025120           0.012389   \n",
       "\n",
       "                   dropoff_latitude  passenger_count  \n",
       "pickup_longitude           0.246595         0.006398  \n",
       "pickup_latitude            0.520171        -0.025120  \n",
       "dropoff_longitude          0.344918         0.012389  \n",
       "dropoff_latitude           1.000000         0.005606  \n",
       "passenger_count            0.005606         1.000000  "
      ]
     },
     "execution_count": 8,
     "metadata": {},
     "output_type": "execute_result"
    }
   ],
   "source": [
    "df.corr()"
   ]
  },
  {
   "cell_type": "markdown",
   "id": "50433afc",
   "metadata": {},
   "source": [
    "### 11. What is the median passenger_count in the dataset, and how might this value provide insights into the user behavior or demand patterns?"
   ]
  },
  {
   "cell_type": "code",
   "execution_count": 12,
   "id": "c3509a89",
   "metadata": {},
   "outputs": [
    {
     "data": {
      "text/plain": [
       "1.0"
      ]
     },
     "execution_count": 12,
     "metadata": {},
     "output_type": "execute_result"
    }
   ],
   "source": [
    "df['passenger_count'].median()"
   ]
  },
  {
   "cell_type": "code",
   "execution_count": 13,
   "id": "7e536b96",
   "metadata": {},
   "outputs": [
    {
     "name": "stderr",
     "output_type": "stream",
     "text": [
      "C:\\Users\\AdityaKumar\\AppData\\Local\\Temp\\ipykernel_29508\\530051474.py:1: FutureWarning: Dropping of nuisance columns in DataFrame reductions (with 'numeric_only=None') is deprecated; in a future version this will raise TypeError.  Select only valid columns before calling the reduction.\n",
      "  df.median()\n"
     ]
    },
    {
     "data": {
      "text/plain": [
       "pickup_longitude    -73.982326\n",
       "pickup_latitude      40.753051\n",
       "dropoff_longitude   -73.980015\n",
       "dropoff_latitude     40.754065\n",
       "passenger_count       1.000000\n",
       "dtype: float64"
      ]
     },
     "execution_count": 13,
     "metadata": {},
     "output_type": "execute_result"
    }
   ],
   "source": [
    "df.median()"
   ]
  },
  {
   "cell_type": "markdown",
   "id": "3e08d606",
   "metadata": {},
   "source": [
    "### 12. How many rows have pickup_latitude values greater than 41, and what insights might this provide about the spatial distribution or density of the pickups and dropoffs?"
   ]
  },
  {
   "cell_type": "code",
   "execution_count": 24,
   "id": "e4d2642b",
   "metadata": {},
   "outputs": [
    {
     "data": {
      "text/plain": [
       "9"
      ]
     },
     "execution_count": 24,
     "metadata": {},
     "output_type": "execute_result"
    }
   ],
   "source": [
    "df['pickup_latitude'][df['pickup_latitude']>41].count()"
   ]
  },
  {
   "cell_type": "code",
   "execution_count": null,
   "id": "4525f372",
   "metadata": {},
   "outputs": [],
   "source": []
  },
  {
   "cell_type": "markdown",
   "id": "17a7fe73",
   "metadata": {},
   "source": [
    "### 14. How many rows have pickup_longitude values between -74 and -73.5, and how might this spatial filter affect the analysis or visualization of the data?"
   ]
  },
  {
   "cell_type": "code",
   "execution_count": 46,
   "id": "84cd9698",
   "metadata": {},
   "outputs": [
    {
     "data": {
      "text/plain": [
       "9906"
      ]
     },
     "execution_count": 46,
     "metadata": {},
     "output_type": "execute_result"
    }
   ],
   "source": [
    "a=df['pickup_longitude'][df['pickup_longitude']<-73.5].count()\n",
    "a"
   ]
  },
  {
   "cell_type": "code",
   "execution_count": 47,
   "id": "36ba6eb0",
   "metadata": {},
   "outputs": [
    {
     "data": {
      "text/plain": [
       "8530"
      ]
     },
     "execution_count": 47,
     "metadata": {},
     "output_type": "execute_result"
    }
   ],
   "source": [
    "b=df['pickup_longitude'][df['pickup_longitude']>-74].count()\n",
    "b"
   ]
  },
  {
   "cell_type": "code",
   "execution_count": 48,
   "id": "1994e2bd",
   "metadata": {},
   "outputs": [
    {
     "data": {
      "text/plain": [
       "count    9914.000000\n",
       "mean      -73.974722\n",
       "std         0.042774\n",
       "min       -74.252193\n",
       "25%       -73.992501\n",
       "50%       -73.982326\n",
       "75%       -73.968013\n",
       "max       -72.986532\n",
       "Name: pickup_longitude, dtype: float64"
      ]
     },
     "execution_count": 48,
     "metadata": {},
     "output_type": "execute_result"
    }
   ],
   "source": [
    "df['pickup_longitude'].describe()"
   ]
  },
  {
   "cell_type": "code",
   "execution_count": 49,
   "id": "dae3c697",
   "metadata": {},
   "outputs": [],
   "source": [
    "s={a,b}"
   ]
  },
  {
   "cell_type": "code",
   "execution_count": null,
   "id": "d63a7f36",
   "metadata": {},
   "outputs": [],
   "source": []
  }
 ],
 "metadata": {
  "kernelspec": {
   "display_name": "Python 3 (ipykernel)",
   "language": "python",
   "name": "python3"
  },
  "language_info": {
   "codemirror_mode": {
    "name": "ipython",
    "version": 3
   },
   "file_extension": ".py",
   "mimetype": "text/x-python",
   "name": "python",
   "nbconvert_exporter": "python",
   "pygments_lexer": "ipython3",
   "version": "3.9.13"
  }
 },
 "nbformat": 4,
 "nbformat_minor": 5
}
