{
 "cells": [
  {
   "cell_type": "code",
   "execution_count": 3,
   "id": "c5e7aa2a",
   "metadata": {},
   "outputs": [],
   "source": [
    "# importing the required libray.\n",
    "import numpy as np\n",
    "import pandas as pd\n",
    "import matplotlib.pyplot as plt\n",
    "import seaborn as sns\n",
    "%matplotlib inline"
   ]
  },
  {
   "cell_type": "code",
   "execution_count": 4,
   "id": "accb4ef4",
   "metadata": {},
   "outputs": [],
   "source": [
    "# reading the provided data set.\n",
    "df =pd.read_csv('test.csv')"
   ]
  },
  {
   "cell_type": "code",
   "execution_count": 5,
   "id": "877ffa07",
   "metadata": {},
   "outputs": [
    {
     "data": {
      "text/html": [
       "<div>\n",
       "<style scoped>\n",
       "    .dataframe tbody tr th:only-of-type {\n",
       "        vertical-align: middle;\n",
       "    }\n",
       "\n",
       "    .dataframe tbody tr th {\n",
       "        vertical-align: top;\n",
       "    }\n",
       "\n",
       "    .dataframe thead th {\n",
       "        text-align: right;\n",
       "    }\n",
       "</style>\n",
       "<table border=\"1\" class=\"dataframe\">\n",
       "  <thead>\n",
       "    <tr style=\"text-align: right;\">\n",
       "      <th></th>\n",
       "      <th>key</th>\n",
       "      <th>pickup_datetime</th>\n",
       "      <th>pickup_longitude</th>\n",
       "      <th>pickup_latitude</th>\n",
       "      <th>dropoff_longitude</th>\n",
       "      <th>dropoff_latitude</th>\n",
       "      <th>passenger_count</th>\n",
       "    </tr>\n",
       "  </thead>\n",
       "  <tbody>\n",
       "    <tr>\n",
       "      <th>0</th>\n",
       "      <td>2015-01-27 13:08:24.0000002</td>\n",
       "      <td>2015-01-27 13:08:24 UTC</td>\n",
       "      <td>-73.973320</td>\n",
       "      <td>40.763805</td>\n",
       "      <td>-73.981430</td>\n",
       "      <td>40.743835</td>\n",
       "      <td>1</td>\n",
       "    </tr>\n",
       "    <tr>\n",
       "      <th>1</th>\n",
       "      <td>2015-01-27 13:08:24.0000003</td>\n",
       "      <td>2015-01-27 13:08:24 UTC</td>\n",
       "      <td>-73.986862</td>\n",
       "      <td>40.719383</td>\n",
       "      <td>-73.998886</td>\n",
       "      <td>40.739201</td>\n",
       "      <td>1</td>\n",
       "    </tr>\n",
       "    <tr>\n",
       "      <th>2</th>\n",
       "      <td>2011-10-08 11:53:44.0000002</td>\n",
       "      <td>2011-10-08 11:53:44 UTC</td>\n",
       "      <td>-73.982524</td>\n",
       "      <td>40.751260</td>\n",
       "      <td>-73.979654</td>\n",
       "      <td>40.746139</td>\n",
       "      <td>1</td>\n",
       "    </tr>\n",
       "    <tr>\n",
       "      <th>3</th>\n",
       "      <td>2012-12-01 21:12:12.0000002</td>\n",
       "      <td>2012-12-01 21:12:12 UTC</td>\n",
       "      <td>-73.981160</td>\n",
       "      <td>40.767807</td>\n",
       "      <td>-73.990448</td>\n",
       "      <td>40.751635</td>\n",
       "      <td>1</td>\n",
       "    </tr>\n",
       "    <tr>\n",
       "      <th>4</th>\n",
       "      <td>2012-12-01 21:12:12.0000003</td>\n",
       "      <td>2012-12-01 21:12:12 UTC</td>\n",
       "      <td>-73.966046</td>\n",
       "      <td>40.789775</td>\n",
       "      <td>-73.988565</td>\n",
       "      <td>40.744427</td>\n",
       "      <td>1</td>\n",
       "    </tr>\n",
       "    <tr>\n",
       "      <th>5</th>\n",
       "      <td>2012-12-01 21:12:12.0000005</td>\n",
       "      <td>2012-12-01 21:12:12 UTC</td>\n",
       "      <td>-73.960983</td>\n",
       "      <td>40.765547</td>\n",
       "      <td>-73.979177</td>\n",
       "      <td>40.740053</td>\n",
       "      <td>1</td>\n",
       "    </tr>\n",
       "    <tr>\n",
       "      <th>6</th>\n",
       "      <td>2011-10-06 12:10:20.0000001</td>\n",
       "      <td>2011-10-06 12:10:20 UTC</td>\n",
       "      <td>-73.949013</td>\n",
       "      <td>40.773204</td>\n",
       "      <td>-73.959622</td>\n",
       "      <td>40.770893</td>\n",
       "      <td>1</td>\n",
       "    </tr>\n",
       "    <tr>\n",
       "      <th>7</th>\n",
       "      <td>2011-10-06 12:10:20.0000003</td>\n",
       "      <td>2011-10-06 12:10:20 UTC</td>\n",
       "      <td>-73.777282</td>\n",
       "      <td>40.646636</td>\n",
       "      <td>-73.985083</td>\n",
       "      <td>40.759368</td>\n",
       "      <td>1</td>\n",
       "    </tr>\n",
       "    <tr>\n",
       "      <th>8</th>\n",
       "      <td>2011-10-06 12:10:20.0000002</td>\n",
       "      <td>2011-10-06 12:10:20 UTC</td>\n",
       "      <td>-74.014099</td>\n",
       "      <td>40.709638</td>\n",
       "      <td>-73.995106</td>\n",
       "      <td>40.741365</td>\n",
       "      <td>1</td>\n",
       "    </tr>\n",
       "    <tr>\n",
       "      <th>9</th>\n",
       "      <td>2014-02-18 15:22:20.0000002</td>\n",
       "      <td>2014-02-18 15:22:20 UTC</td>\n",
       "      <td>-73.969582</td>\n",
       "      <td>40.765519</td>\n",
       "      <td>-73.980686</td>\n",
       "      <td>40.770725</td>\n",
       "      <td>1</td>\n",
       "    </tr>\n",
       "  </tbody>\n",
       "</table>\n",
       "</div>"
      ],
      "text/plain": [
       "                           key          pickup_datetime  pickup_longitude  \\\n",
       "0  2015-01-27 13:08:24.0000002  2015-01-27 13:08:24 UTC        -73.973320   \n",
       "1  2015-01-27 13:08:24.0000003  2015-01-27 13:08:24 UTC        -73.986862   \n",
       "2  2011-10-08 11:53:44.0000002  2011-10-08 11:53:44 UTC        -73.982524   \n",
       "3  2012-12-01 21:12:12.0000002  2012-12-01 21:12:12 UTC        -73.981160   \n",
       "4  2012-12-01 21:12:12.0000003  2012-12-01 21:12:12 UTC        -73.966046   \n",
       "5  2012-12-01 21:12:12.0000005  2012-12-01 21:12:12 UTC        -73.960983   \n",
       "6  2011-10-06 12:10:20.0000001  2011-10-06 12:10:20 UTC        -73.949013   \n",
       "7  2011-10-06 12:10:20.0000003  2011-10-06 12:10:20 UTC        -73.777282   \n",
       "8  2011-10-06 12:10:20.0000002  2011-10-06 12:10:20 UTC        -74.014099   \n",
       "9  2014-02-18 15:22:20.0000002  2014-02-18 15:22:20 UTC        -73.969582   \n",
       "\n",
       "   pickup_latitude  dropoff_longitude  dropoff_latitude  passenger_count  \n",
       "0        40.763805         -73.981430         40.743835                1  \n",
       "1        40.719383         -73.998886         40.739201                1  \n",
       "2        40.751260         -73.979654         40.746139                1  \n",
       "3        40.767807         -73.990448         40.751635                1  \n",
       "4        40.789775         -73.988565         40.744427                1  \n",
       "5        40.765547         -73.979177         40.740053                1  \n",
       "6        40.773204         -73.959622         40.770893                1  \n",
       "7        40.646636         -73.985083         40.759368                1  \n",
       "8        40.709638         -73.995106         40.741365                1  \n",
       "9        40.765519         -73.980686         40.770725                1  "
      ]
     },
     "execution_count": 5,
     "metadata": {},
     "output_type": "execute_result"
    }
   ],
   "source": [
    "# reading first 10 rows from data set.\n",
    "df.head(10)"
   ]
  },
  {
   "cell_type": "code",
   "execution_count": 6,
   "id": "64c1fd53",
   "metadata": {},
   "outputs": [
    {
     "name": "stdout",
     "output_type": "stream",
     "text": [
      "<class 'pandas.core.frame.DataFrame'>\n",
      "RangeIndex: 9914 entries, 0 to 9913\n",
      "Data columns (total 7 columns):\n",
      " #   Column             Non-Null Count  Dtype  \n",
      "---  ------             --------------  -----  \n",
      " 0   key                9914 non-null   object \n",
      " 1   pickup_datetime    9914 non-null   object \n",
      " 2   pickup_longitude   9914 non-null   float64\n",
      " 3   pickup_latitude    9914 non-null   float64\n",
      " 4   dropoff_longitude  9914 non-null   float64\n",
      " 5   dropoff_latitude   9914 non-null   float64\n",
      " 6   passenger_count    9914 non-null   int64  \n",
      "dtypes: float64(4), int64(1), object(2)\n",
      "memory usage: 542.3+ KB\n"
     ]
    }
   ],
   "source": [
    "# viewing the information about dataset.\n",
    "df.info()"
   ]
  },
  {
   "cell_type": "code",
   "execution_count": 7,
   "id": "b2b3a3e8",
   "metadata": {},
   "outputs": [
    {
     "data": {
      "text/html": [
       "<div>\n",
       "<style scoped>\n",
       "    .dataframe tbody tr th:only-of-type {\n",
       "        vertical-align: middle;\n",
       "    }\n",
       "\n",
       "    .dataframe tbody tr th {\n",
       "        vertical-align: top;\n",
       "    }\n",
       "\n",
       "    .dataframe thead th {\n",
       "        text-align: right;\n",
       "    }\n",
       "</style>\n",
       "<table border=\"1\" class=\"dataframe\">\n",
       "  <thead>\n",
       "    <tr style=\"text-align: right;\">\n",
       "      <th></th>\n",
       "      <th>pickup_longitude</th>\n",
       "      <th>pickup_latitude</th>\n",
       "      <th>dropoff_longitude</th>\n",
       "      <th>dropoff_latitude</th>\n",
       "      <th>passenger_count</th>\n",
       "    </tr>\n",
       "  </thead>\n",
       "  <tbody>\n",
       "    <tr>\n",
       "      <th>count</th>\n",
       "      <td>9914.000000</td>\n",
       "      <td>9914.000000</td>\n",
       "      <td>9914.000000</td>\n",
       "      <td>9914.000000</td>\n",
       "      <td>9914.000000</td>\n",
       "    </tr>\n",
       "    <tr>\n",
       "      <th>mean</th>\n",
       "      <td>-73.974722</td>\n",
       "      <td>40.751041</td>\n",
       "      <td>-73.973657</td>\n",
       "      <td>40.751743</td>\n",
       "      <td>1.671273</td>\n",
       "    </tr>\n",
       "    <tr>\n",
       "      <th>std</th>\n",
       "      <td>0.042774</td>\n",
       "      <td>0.033541</td>\n",
       "      <td>0.039072</td>\n",
       "      <td>0.035435</td>\n",
       "      <td>1.278747</td>\n",
       "    </tr>\n",
       "    <tr>\n",
       "      <th>min</th>\n",
       "      <td>-74.252193</td>\n",
       "      <td>40.573143</td>\n",
       "      <td>-74.263242</td>\n",
       "      <td>40.568973</td>\n",
       "      <td>1.000000</td>\n",
       "    </tr>\n",
       "    <tr>\n",
       "      <th>25%</th>\n",
       "      <td>-73.992501</td>\n",
       "      <td>40.736125</td>\n",
       "      <td>-73.991247</td>\n",
       "      <td>40.735254</td>\n",
       "      <td>1.000000</td>\n",
       "    </tr>\n",
       "    <tr>\n",
       "      <th>50%</th>\n",
       "      <td>-73.982326</td>\n",
       "      <td>40.753051</td>\n",
       "      <td>-73.980015</td>\n",
       "      <td>40.754065</td>\n",
       "      <td>1.000000</td>\n",
       "    </tr>\n",
       "    <tr>\n",
       "      <th>75%</th>\n",
       "      <td>-73.968013</td>\n",
       "      <td>40.767113</td>\n",
       "      <td>-73.964059</td>\n",
       "      <td>40.768757</td>\n",
       "      <td>2.000000</td>\n",
       "    </tr>\n",
       "    <tr>\n",
       "      <th>max</th>\n",
       "      <td>-72.986532</td>\n",
       "      <td>41.709555</td>\n",
       "      <td>-72.990963</td>\n",
       "      <td>41.696683</td>\n",
       "      <td>6.000000</td>\n",
       "    </tr>\n",
       "  </tbody>\n",
       "</table>\n",
       "</div>"
      ],
      "text/plain": [
       "       pickup_longitude  pickup_latitude  dropoff_longitude  dropoff_latitude  \\\n",
       "count       9914.000000      9914.000000        9914.000000       9914.000000   \n",
       "mean         -73.974722        40.751041         -73.973657         40.751743   \n",
       "std            0.042774         0.033541           0.039072          0.035435   \n",
       "min          -74.252193        40.573143         -74.263242         40.568973   \n",
       "25%          -73.992501        40.736125         -73.991247         40.735254   \n",
       "50%          -73.982326        40.753051         -73.980015         40.754065   \n",
       "75%          -73.968013        40.767113         -73.964059         40.768757   \n",
       "max          -72.986532        41.709555         -72.990963         41.696683   \n",
       "\n",
       "       passenger_count  \n",
       "count      9914.000000  \n",
       "mean          1.671273  \n",
       "std           1.278747  \n",
       "min           1.000000  \n",
       "25%           1.000000  \n",
       "50%           1.000000  \n",
       "75%           2.000000  \n",
       "max           6.000000  "
      ]
     },
     "execution_count": 7,
     "metadata": {},
     "output_type": "execute_result"
    }
   ],
   "source": [
    "# describing the stats of the dataset.\n",
    "df.describe()"
   ]
  },
  {
   "cell_type": "code",
   "execution_count": 8,
   "id": "30f9aa24",
   "metadata": {},
   "outputs": [
    {
     "data": {
      "text/plain": [
       "<Figure size 1800x500 with 0 Axes>"
      ]
     },
     "execution_count": 8,
     "metadata": {},
     "output_type": "execute_result"
    },
    {
     "data": {
      "image/png": "[encoded data removed]",
      "text/plain": [
       "<Figure size 1250x1250 with 30 Axes>"
      ]
     },
     "metadata": {},
     "output_type": "display_data"
    },
    {
     "data": {
      "text/plain": [
       "<Figure size 1800x500 with 0 Axes>"
      ]
     },
     "metadata": {},
     "output_type": "display_data"
    }
   ],
   "source": [
    "sns.pairplot(df)\n",
    "plt.figure(figsize=(18,5))"
   ]
  },
  {
   "cell_type": "markdown",
   "id": "589953cb",
   "metadata": {},
   "source": [
    "."
   ]
  },
  {
   "cell_type": "markdown",
   "id": "1b6e2058",
   "metadata": {},
   "source": [
    "### 1. What is the data type of each column in the dataset, and how might the data types affect the analysis and visualization of the data?"
   ]
  },
  {
   "cell_type": "code",
   "execution_count": 7,
   "id": "cacba856",
   "metadata": {},
   "outputs": [
    {
     "data": {
      "text/plain": [
       "key                   object\n",
       "pickup_datetime       object\n",
       "pickup_longitude     float64\n",
       "pickup_latitude      float64\n",
       "dropoff_longitude    float64\n",
       "dropoff_latitude     float64\n",
       "passenger_count        int64\n",
       "dtype: object"
      ]
     },
     "execution_count": 7,
     "metadata": {},
     "output_type": "execute_result"
    }
   ],
   "source": [
    "df.dtypes"
   ]
  },
  {
   "cell_type": "markdown",
   "id": "d2817988",
   "metadata": {},
   "source": [
    "###### Data type effect the analysis and visualization in various way like\n",
    "- numerical data type used to perform statistical calculation.\n",
    "- categorical data type is used to perform grouping of data . Example : Gender Male/Female.\n",
    "- Date and Time is used to understand the time trends of data and understand the temporal analysis.\n",
    "- in case of object data type we need to perform data cleaning and handle missing values so that data will become valid for analyis and visualization."
   ]
  },
  {
   "cell_type": "markdown",
   "id": "008163d1",
   "metadata": {},
   "source": [
    "### 2. How many rows are in the dataset, and how might the size of the dataset affect the efficiency and accuracy of the analysis?"
   ]
  },
  {
   "cell_type": "code",
   "execution_count": 8,
   "id": "1ff5c400",
   "metadata": {},
   "outputs": [
    {
     "data": {
      "text/plain": [
       "9914"
      ]
     },
     "execution_count": 8,
     "metadata": {},
     "output_type": "execute_result"
    }
   ],
   "source": [
    "# it iwll give the total no. of rows available in the data set.\n",
    "len(df)"
   ]
  },
  {
   "cell_type": "code",
   "execution_count": 9,
   "id": "2ba66ce7",
   "metadata": {},
   "outputs": [
    {
     "data": {
      "text/plain": [
       "(9914, 7)"
      ]
     },
     "execution_count": 9,
     "metadata": {},
     "output_type": "execute_result"
    }
   ],
   "source": [
    "# it will give the shape of the data set in format of  (rows, Columns)\n",
    "df.shape"
   ]
  },
  {
   "cell_type": "code",
   "execution_count": 10,
   "id": "eca5c097",
   "metadata": {},
   "outputs": [
    {
     "data": {
      "text/html": [
       "<div>\n",
       "<style scoped>\n",
       "    .dataframe tbody tr th:only-of-type {\n",
       "        vertical-align: middle;\n",
       "    }\n",
       "\n",
       "    .dataframe tbody tr th {\n",
       "        vertical-align: top;\n",
       "    }\n",
       "\n",
       "    .dataframe thead th {\n",
       "        text-align: right;\n",
       "    }\n",
       "</style>\n",
       "<table border=\"1\" class=\"dataframe\">\n",
       "  <thead>\n",
       "    <tr style=\"text-align: right;\">\n",
       "      <th></th>\n",
       "      <th>key</th>\n",
       "      <th>pickup_datetime</th>\n",
       "      <th>pickup_longitude</th>\n",
       "      <th>pickup_latitude</th>\n",
       "      <th>dropoff_longitude</th>\n",
       "      <th>dropoff_latitude</th>\n",
       "      <th>passenger_count</th>\n",
       "    </tr>\n",
       "  </thead>\n",
       "  <tbody>\n",
       "    <tr>\n",
       "      <th>0</th>\n",
       "      <td>False</td>\n",
       "      <td>False</td>\n",
       "      <td>False</td>\n",
       "      <td>False</td>\n",
       "      <td>False</td>\n",
       "      <td>False</td>\n",
       "      <td>False</td>\n",
       "    </tr>\n",
       "    <tr>\n",
       "      <th>1</th>\n",
       "      <td>False</td>\n",
       "      <td>False</td>\n",
       "      <td>False</td>\n",
       "      <td>False</td>\n",
       "      <td>False</td>\n",
       "      <td>False</td>\n",
       "      <td>False</td>\n",
       "    </tr>\n",
       "    <tr>\n",
       "      <th>2</th>\n",
       "      <td>False</td>\n",
       "      <td>False</td>\n",
       "      <td>False</td>\n",
       "      <td>False</td>\n",
       "      <td>False</td>\n",
       "      <td>False</td>\n",
       "      <td>False</td>\n",
       "    </tr>\n",
       "    <tr>\n",
       "      <th>3</th>\n",
       "      <td>False</td>\n",
       "      <td>False</td>\n",
       "      <td>False</td>\n",
       "      <td>False</td>\n",
       "      <td>False</td>\n",
       "      <td>False</td>\n",
       "      <td>False</td>\n",
       "    </tr>\n",
       "    <tr>\n",
       "      <th>4</th>\n",
       "      <td>False</td>\n",
       "      <td>False</td>\n",
       "      <td>False</td>\n",
       "      <td>False</td>\n",
       "      <td>False</td>\n",
       "      <td>False</td>\n",
       "      <td>False</td>\n",
       "    </tr>\n",
       "    <tr>\n",
       "      <th>...</th>\n",
       "      <td>...</td>\n",
       "      <td>...</td>\n",
       "      <td>...</td>\n",
       "      <td>...</td>\n",
       "      <td>...</td>\n",
       "      <td>...</td>\n",
       "      <td>...</td>\n",
       "    </tr>\n",
       "    <tr>\n",
       "      <th>9909</th>\n",
       "      <td>False</td>\n",
       "      <td>False</td>\n",
       "      <td>False</td>\n",
       "      <td>False</td>\n",
       "      <td>False</td>\n",
       "      <td>False</td>\n",
       "      <td>False</td>\n",
       "    </tr>\n",
       "    <tr>\n",
       "      <th>9910</th>\n",
       "      <td>False</td>\n",
       "      <td>False</td>\n",
       "      <td>False</td>\n",
       "      <td>False</td>\n",
       "      <td>False</td>\n",
       "      <td>False</td>\n",
       "      <td>False</td>\n",
       "    </tr>\n",
       "    <tr>\n",
       "      <th>9911</th>\n",
       "      <td>False</td>\n",
       "      <td>False</td>\n",
       "      <td>False</td>\n",
       "      <td>False</td>\n",
       "      <td>False</td>\n",
       "      <td>False</td>\n",
       "      <td>False</td>\n",
       "    </tr>\n",
       "    <tr>\n",
       "      <th>9912</th>\n",
       "      <td>False</td>\n",
       "      <td>False</td>\n",
       "      <td>False</td>\n",
       "      <td>False</td>\n",
       "      <td>False</td>\n",
       "      <td>False</td>\n",
       "      <td>False</td>\n",
       "    </tr>\n",
       "    <tr>\n",
       "      <th>9913</th>\n",
       "      <td>False</td>\n",
       "      <td>False</td>\n",
       "      <td>False</td>\n",
       "      <td>False</td>\n",
       "      <td>False</td>\n",
       "      <td>False</td>\n",
       "      <td>False</td>\n",
       "    </tr>\n",
       "  </tbody>\n",
       "</table>\n",
       "<p>9914 rows × 7 columns</p>\n",
       "</div>"
      ],
      "text/plain": [
       "        key  pickup_datetime  pickup_longitude  pickup_latitude  \\\n",
       "0     False            False             False            False   \n",
       "1     False            False             False            False   \n",
       "2     False            False             False            False   \n",
       "3     False            False             False            False   \n",
       "4     False            False             False            False   \n",
       "...     ...              ...               ...              ...   \n",
       "9909  False            False             False            False   \n",
       "9910  False            False             False            False   \n",
       "9911  False            False             False            False   \n",
       "9912  False            False             False            False   \n",
       "9913  False            False             False            False   \n",
       "\n",
       "      dropoff_longitude  dropoff_latitude  passenger_count  \n",
       "0                 False             False            False  \n",
       "1                 False             False            False  \n",
       "2                 False             False            False  \n",
       "3                 False             False            False  \n",
       "4                 False             False            False  \n",
       "...                 ...               ...              ...  \n",
       "9909              False             False            False  \n",
       "9910              False             False            False  \n",
       "9911              False             False            False  \n",
       "9912              False             False            False  \n",
       "9913              False             False            False  \n",
       "\n",
       "[9914 rows x 7 columns]"
      ]
     },
     "execution_count": 10,
     "metadata": {},
     "output_type": "execute_result"
    }
   ],
   "source": [
    "# It will check is there any null vlaues in the dataset.\n",
    "df.isnull()"
   ]
  },
  {
   "cell_type": "code",
   "execution_count": 11,
   "id": "00b14eb1",
   "metadata": {},
   "outputs": [
    {
     "data": {
      "text/plain": [
       "key    pickup_datetime  pickup_longitude  pickup_latitude  dropoff_longitude  dropoff_latitude  passenger_count\n",
       "False  False            False             False            False              False             False              9914\n",
       "dtype: int64"
      ]
     },
     "execution_count": 11,
     "metadata": {},
     "output_type": "execute_result"
    }
   ],
   "source": [
    "df.isnull().value_counts()  # it will count the values."
   ]
  },
  {
   "cell_type": "markdown",
   "id": "5c5862c6",
   "metadata": {},
   "source": [
    "##### Size of the data set affects the analysis and visualization\n",
    "- If the data set size if large then it will give the more accurate result and also having a drwaback like we have to perform data cleaning before processing that dataset.\n",
    "- As the data size increases the computational cost is also increases and take more time to visualize and analysi."
   ]
  },
  {
   "cell_type": "markdown",
   "id": "4f2cb671",
   "metadata": {},
   "source": [
    "### 3. How many unique values are there in the 'passenger_count' column, and what insights might this provide about the user behavior or demand patterns?"
   ]
  },
  {
   "cell_type": "code",
   "execution_count": 20,
   "id": "3b33d1f9",
   "metadata": {},
   "outputs": [
    {
     "data": {
      "text/plain": [
       "6"
      ]
     },
     "execution_count": 20,
     "metadata": {},
     "output_type": "execute_result"
    }
   ],
   "source": [
    "# it will find the unique value in the passanger count column.\n",
    "uniq=df['passenger_count'].unique()\n",
    "len(uniq)"
   ]
  },
  {
   "cell_type": "markdown",
   "id": "3bce1382",
   "metadata": {},
   "source": [
    "##### It will provides information about the behaviour of the passanger and the demand on basis of  \n",
    "- location\n",
    "- Date and time \n",
    "__________________\n",
    "- it will helps in decisin making and undestand the passangers behaviour so the in future new services can be provided and proved the poor services."
   ]
  },
  {
   "cell_type": "code",
   "execution_count": 13,
   "id": "cad7546f",
   "metadata": {},
   "outputs": [
    {
     "data": {
      "text/plain": [
       "array([1, 2, 3, 4, 5, 6], dtype=int64)"
      ]
     },
     "execution_count": 13,
     "metadata": {},
     "output_type": "execute_result"
    }
   ],
   "source": [
    "a=df['passenger_count'].unique()\n",
    "a.view()"
   ]
  },
  {
   "cell_type": "markdown",
   "id": "cb94c423",
   "metadata": {},
   "source": [
    "### 4. What is the maximum longitude value in the dataset, and how might this value affect the spatial analysis or visualization of the data?"
   ]
  },
  {
   "cell_type": "code",
   "execution_count": 14,
   "id": "6ecdc18e",
   "metadata": {},
   "outputs": [
    {
     "data": {
      "text/plain": [
       "-72.986532"
      ]
     },
     "execution_count": 14,
     "metadata": {},
     "output_type": "execute_result"
    }
   ],
   "source": [
    "# It will give the maximumn pickup longtitude value.\n",
    "df['pickup_longitude'].max()"
   ]
  },
  {
   "cell_type": "code",
   "execution_count": 15,
   "id": "688da4f6",
   "metadata": {},
   "outputs": [
    {
     "data": {
      "text/plain": [
       "-72.990963"
      ]
     },
     "execution_count": 15,
     "metadata": {},
     "output_type": "execute_result"
    }
   ],
   "source": [
    "# It will give the maximum dropoff longitude vlaue.\n",
    "df['dropoff_longitude'].max()"
   ]
  },
  {
   "cell_type": "code",
   "execution_count": 16,
   "id": "fb144fb8",
   "metadata": {},
   "outputs": [
    {
     "data": {
      "text/plain": [
       "pickup_longitude    -72.986532\n",
       "dropoff_longitude   -72.990963\n",
       "dtype: float64"
      ]
     },
     "execution_count": 16,
     "metadata": {},
     "output_type": "execute_result"
    }
   ],
   "source": [
    "# It will both pickup and dropoff longtitude value.\n",
    "df[['pickup_longitude','dropoff_longitude']].max()"
   ]
  },
  {
   "cell_type": "markdown",
   "id": "d8f02780",
   "metadata": {},
   "source": [
    "#####  spetial analysis helps to understand the human behaviour on the basis of geographical analyis / distance.\n",
    "- It will help to undestand the service availabilty area how far able to provide the serivces. and find out the nearby area for serivces in future.\n",
    "- It will helps to understand geographical coverage in better way and figure out the outliers area for services.\n"
   ]
  },
  {
   "cell_type": "code",
   "execution_count": 17,
   "id": "abe43fc7",
   "metadata": {},
   "outputs": [
    {
     "data": {
      "text/plain": [
       "<AxesSubplot:xlabel='pickup_longitude', ylabel='dropoff_longitude'>"
      ]
     },
     "execution_count": 17,
     "metadata": {},
     "output_type": "execute_result"
    },
    {
     "data": {
      "image/png": "[encoded data removed]",
      "text/plain": [
       "<Figure size 1584x432 with 1 Axes>"
      ]
     },
     "metadata": {
      "needs_background": "light"
     },
     "output_type": "display_data"
    }
   ],
   "source": [
    "plt.figure(figsize=(22,6))\n",
    "sns.boxplot(x=df['pickup_longitude'],y=df['dropoff_longitude'],fliersize=5,width=.1)"
   ]
  },
  {
   "cell_type": "code",
   "execution_count": 18,
   "id": "80d2d3e9",
   "metadata": {},
   "outputs": [
    {
     "data": {
      "text/plain": [
       "<AxesSubplot:xlabel='pickup_longitude'>"
      ]
     },
     "execution_count": 18,
     "metadata": {},
     "output_type": "execute_result"
    },
    {
     "data": {
      "image/png": "[encoded data removed]",
      "text/plain": [
       "<Figure size 432x288 with 1 Axes>"
      ]
     },
     "metadata": {
      "needs_background": "light"
     },
     "output_type": "display_data"
    }
   ],
   "source": [
    "sns.boxplot(x=df['pickup_longitude'])"
   ]
  },
  {
   "cell_type": "code",
   "execution_count": 19,
   "id": "933abe54",
   "metadata": {},
   "outputs": [
    {
     "data": {
      "text/plain": [
       "<AxesSubplot:xlabel='dropoff_longitude'>"
      ]
     },
     "execution_count": 19,
     "metadata": {},
     "output_type": "execute_result"
    },
    {
     "data": {
      "image/png": "[encoded data removed]",
      "text/plain": [
       "<Figure size 432x288 with 1 Axes>"
      ]
     },
     "metadata": {
      "needs_background": "light"
     },
     "output_type": "display_data"
    }
   ],
   "source": [
    "sns.boxplot(x=df['dropoff_longitude'])"
   ]
  },
  {
   "cell_type": "code",
   "execution_count": 20,
   "id": "d8d567f2",
   "metadata": {},
   "outputs": [
    {
     "data": {
      "text/plain": [
       "key                  2015-06-30 20:03:50.0000005\n",
       "pickup_datetime          2015-06-30 20:03:50 UTC\n",
       "pickup_longitude                      -72.986532\n",
       "pickup_latitude                        41.709555\n",
       "dropoff_longitude                     -72.990963\n",
       "dropoff_latitude                       41.696683\n",
       "passenger_count                                6\n",
       "dtype: object"
      ]
     },
     "execution_count": 20,
     "metadata": {},
     "output_type": "execute_result"
    }
   ],
   "source": [
    "# It will give the maximum vlaue from each of the column.\n",
    "df.max()"
   ]
  },
  {
   "cell_type": "markdown",
   "id": "09b231fa",
   "metadata": {},
   "source": [
    "### 5. What is the average latitude value in the dataset, and how might this value provide insights into the spatial distribution or density of the pickups and dropoffs?"
   ]
  },
  {
   "cell_type": "code",
   "execution_count": 21,
   "id": "b28e5085",
   "metadata": {},
   "outputs": [
    {
     "data": {
      "text/plain": [
       "40.75104072349318"
      ]
     },
     "execution_count": 21,
     "metadata": {},
     "output_type": "execute_result"
    }
   ],
   "source": [
    "df['pickup_latitude'].mean()"
   ]
  },
  {
   "cell_type": "code",
   "execution_count": 22,
   "id": "a158ff97",
   "metadata": {},
   "outputs": [
    {
     "data": {
      "text/plain": [
       "40.75174278102696"
      ]
     },
     "execution_count": 22,
     "metadata": {},
     "output_type": "execute_result"
    }
   ],
   "source": [
    "df['dropoff_latitude'].mean()"
   ]
  },
  {
   "cell_type": "code",
   "execution_count": 23,
   "id": "c6d23ac2",
   "metadata": {},
   "outputs": [
    {
     "data": {
      "text/plain": [
       "pickup_latitude     40.751041\n",
       "dropoff_latitude    40.751743\n",
       "dtype: float64"
      ]
     },
     "execution_count": 23,
     "metadata": {},
     "output_type": "execute_result"
    }
   ],
   "source": [
    "# give the average pickup and dropoff latitude.\n",
    "df[['pickup_latitude','dropoff_latitude']].mean()"
   ]
  },
  {
   "cell_type": "code",
   "execution_count": 24,
   "id": "10697699",
   "metadata": {},
   "outputs": [
    {
     "data": {
      "text/plain": [
       "pickup_latitude     40.75\n",
       "dropoff_latitude    40.75\n",
       "dtype: float64"
      ]
     },
     "execution_count": 24,
     "metadata": {},
     "output_type": "execute_result"
    }
   ],
   "source": [
    "# it will give the average pickup and dropoff latitude upto 2 decimal value.\n",
    "df[['pickup_latitude','dropoff_latitude']].mean().round(2)"
   ]
  },
  {
   "cell_type": "markdown",
   "id": "e593959c",
   "metadata": {},
   "source": [
    "##### It helps in decison making and around areas to target for marketing and service expansion.\n",
    "- It will helps to figure out the central loaction from where maximum no. of passingers can use the service.\n",
    "- It will also helps to understand the comparison of different location spatial distribution or density of the pickups and dropoffs."
   ]
  },
  {
   "cell_type": "markdown",
   "id": "f64e60c9",
   "metadata": {},
   "source": [
    "### 6. What is the pickup_datetime of the first row in the dataset, and how might the timestamp format affect the temporal analysis or visualization of the data?"
   ]
  },
  {
   "cell_type": "code",
   "execution_count": 25,
   "id": "ea44f49c",
   "metadata": {},
   "outputs": [
    {
     "data": {
      "text/plain": [
       "0    2015-01-27 13:08:24 UTC\n",
       "Name: pickup_datetime, dtype: object"
      ]
     },
     "execution_count": 25,
     "metadata": {},
     "output_type": "execute_result"
    }
   ],
   "source": [
    "df['pickup_datetime'].head(1)"
   ]
  },
  {
   "cell_type": "code",
   "execution_count": 22,
   "id": "b53d0874",
   "metadata": {},
   "outputs": [
    {
     "data": {
      "text/plain": [
       "'2015-01-27 13:08:24 UTC'"
      ]
     },
     "execution_count": 22,
     "metadata": {},
     "output_type": "execute_result"
    }
   ],
   "source": [
    "df['pickup_datetime'][0]"
   ]
  },
  {
   "cell_type": "markdown",
   "id": "5ea8acbf",
   "metadata": {},
   "source": [
    "##### Temporal analysis is use to analyse multiple data point over time (ie. month , day, year, hour, minute , second etc)\n",
    "- Timestamp formt is used to find the \"time Range\",\"time series\" of the data.\n",
    "- It also helps to understand real world problem in better way. Example stock market."
   ]
  },
  {
   "cell_type": "markdown",
   "id": "234fde6f",
   "metadata": {},
   "source": [
    "### 7. How many rows have a passenger_count greater than 1, and what insights might this provide about the user behavior or demand patterns?"
   ]
  },
  {
   "cell_type": "code",
   "execution_count": 26,
   "id": "d785ea24",
   "metadata": {},
   "outputs": [
    {
     "data": {
      "text/plain": [
       "1    6914\n",
       "2    1474\n",
       "5     696\n",
       "3     447\n",
       "4     206\n",
       "6     177\n",
       "Name: passenger_count, dtype: int64"
      ]
     },
     "execution_count": 26,
     "metadata": {},
     "output_type": "execute_result"
    }
   ],
   "source": [
    "# it will count the vlaues number.\n",
    "df['passenger_count'].value_counts()"
   ]
  },
  {
   "cell_type": "code",
   "execution_count": 27,
   "id": "e1b4251e",
   "metadata": {},
   "outputs": [
    {
     "name": "stdout",
     "output_type": "stream",
     "text": [
      "3000\n"
     ]
    }
   ],
   "source": [
    "# # rows having a passanger count greater than 1.\n",
    "# df['passenger_count'][df['passenger_count']>1].count()\n",
    "v=df['passenger_count']>1\n",
    "#print(df[v].count())\n",
    "print(df['passenger_count'][v].count())"
   ]
  },
  {
   "cell_type": "code",
   "execution_count": 28,
   "id": "7fb58505",
   "metadata": {},
   "outputs": [
    {
     "data": {
      "text/plain": [
       "6914"
      ]
     },
     "execution_count": 28,
     "metadata": {},
     "output_type": "execute_result"
    }
   ],
   "source": [
    "# rows having a passanger count equal to 1 so that we can verify the answer.\n",
    "df['passenger_count'][df['passenger_count']==1].count()"
   ]
  },
  {
   "cell_type": "markdown",
   "id": "80ca00de",
   "metadata": {},
   "source": [
    "##### It will helps to understand the passanger behaviour like grop size, pasanger behaviour at peak time.\n",
    "- It will help to take better decison and imporove the efficiency of ride sharing service. \n"
   ]
  },
  {
   "cell_type": "markdown",
   "id": "6d3e7391",
   "metadata": {},
   "source": [
    "### 8. What is the range of values in the pickup_latitude column, and how might this value affect the spatial analysis or visualization of the data?"
   ]
  },
  {
   "cell_type": "code",
   "execution_count": 14,
   "id": "c49a84b3",
   "metadata": {},
   "outputs": [
    {
     "data": {
      "text/plain": [
       "40.573143"
      ]
     },
     "execution_count": 14,
     "metadata": {},
     "output_type": "execute_result"
    }
   ],
   "source": [
    "# find lower value of pickup lattitude.\n",
    "lower_value =df['pickup_latitude'].min()\n",
    "lower_value"
   ]
  },
  {
   "cell_type": "code",
   "execution_count": 15,
   "id": "84395e00",
   "metadata": {},
   "outputs": [
    {
     "data": {
      "text/plain": [
       "41.709555"
      ]
     },
     "execution_count": 15,
     "metadata": {},
     "output_type": "execute_result"
    }
   ],
   "source": [
    "# find maximum vlaue of pickup lattitude.\n",
    "higher_value=df['pickup_latitude'].max()\n",
    "higher_value"
   ]
  },
  {
   "cell_type": "code",
   "execution_count": 16,
   "id": "f3166e9c",
   "metadata": {},
   "outputs": [
    {
     "name": "stdout",
     "output_type": "stream",
     "text": [
      "range :  -1.136412\n"
     ]
    }
   ],
   "source": [
    "# range of values in the pickup_latitude column\n",
    "print(\"range : \",lower_value-higher_value)"
   ]
  },
  {
   "cell_type": "markdown",
   "id": "6548b4ae",
   "metadata": {},
   "source": [
    "##### The range of values in the pickup lattitude cloumn helps to understand the geographical area in beeter way also helps to understand better way on maps and improve services in that geographical area."
   ]
  },
  {
   "cell_type": "markdown",
   "id": "9824e7cd",
   "metadata": {},
   "source": [
    "### 9. How many rows have missing values, and how might the missing data affect the accuracy and reliability of the analysis?"
   ]
  },
  {
   "cell_type": "code",
   "execution_count": 32,
   "id": "d6aee695",
   "metadata": {},
   "outputs": [
    {
     "data": {
      "text/plain": [
       "key                  0\n",
       "pickup_datetime      0\n",
       "pickup_longitude     0\n",
       "pickup_latitude      0\n",
       "dropoff_longitude    0\n",
       "dropoff_latitude     0\n",
       "passenger_count      0\n",
       "dtype: int64"
      ]
     },
     "execution_count": 32,
     "metadata": {},
     "output_type": "execute_result"
    }
   ],
   "source": [
    "# it will find not a number value.\n",
    "df.isna().sum()"
   ]
  },
  {
   "cell_type": "code",
   "execution_count": 33,
   "id": "22193dd3",
   "metadata": {},
   "outputs": [
    {
     "data": {
      "text/plain": [
       "key                  0\n",
       "pickup_datetime      0\n",
       "pickup_longitude     0\n",
       "pickup_latitude      0\n",
       "dropoff_longitude    0\n",
       "dropoff_latitude     0\n",
       "passenger_count      0\n",
       "dtype: int64"
      ]
     },
     "execution_count": 33,
     "metadata": {},
     "output_type": "execute_result"
    }
   ],
   "source": [
    "# it will find null values.\n",
    "df.isnull().sum()"
   ]
  },
  {
   "cell_type": "markdown",
   "id": "42736c5d",
   "metadata": {},
   "source": [
    "- There is no missing row.\n",
    "- It impact the accuarcy of the result and also reduced the sample size.\n",
    "- Can mislead the consclusion of data set which can impact in business decisions."
   ]
  },
  {
   "cell_type": "markdown",
   "id": "202c70a4",
   "metadata": {},
   "source": [
    "### 10. What is the correlation between pickup_longitude and dropoff_longitude, and how might this correlation provide insights into the spatial relationships or patterns of the pickups and dropoffs?"
   ]
  },
  {
   "cell_type": "code",
   "execution_count": 34,
   "id": "21d36639",
   "metadata": {},
   "outputs": [
    {
     "data": {
      "text/html": [
       "<div>\n",
       "<style scoped>\n",
       "    .dataframe tbody tr th:only-of-type {\n",
       "        vertical-align: middle;\n",
       "    }\n",
       "\n",
       "    .dataframe tbody tr th {\n",
       "        vertical-align: top;\n",
       "    }\n",
       "\n",
       "    .dataframe thead th {\n",
       "        text-align: right;\n",
       "    }\n",
       "</style>\n",
       "<table border=\"1\" class=\"dataframe\">\n",
       "  <thead>\n",
       "    <tr style=\"text-align: right;\">\n",
       "      <th></th>\n",
       "      <th>pickup_longitude</th>\n",
       "      <th>dropoff_longitude</th>\n",
       "    </tr>\n",
       "  </thead>\n",
       "  <tbody>\n",
       "    <tr>\n",
       "      <th>pickup_longitude</th>\n",
       "      <td>1.000000</td>\n",
       "      <td>0.437949</td>\n",
       "    </tr>\n",
       "    <tr>\n",
       "      <th>dropoff_longitude</th>\n",
       "      <td>0.437949</td>\n",
       "      <td>1.000000</td>\n",
       "    </tr>\n",
       "  </tbody>\n",
       "</table>\n",
       "</div>"
      ],
      "text/plain": [
       "                   pickup_longitude  dropoff_longitude\n",
       "pickup_longitude           1.000000           0.437949\n",
       "dropoff_longitude          0.437949           1.000000"
      ]
     },
     "execution_count": 34,
     "metadata": {},
     "output_type": "execute_result"
    }
   ],
   "source": [
    "df[['pickup_longitude','dropoff_longitude']].corr()"
   ]
  },
  {
   "cell_type": "code",
   "execution_count": 35,
   "id": "9b744b33",
   "metadata": {},
   "outputs": [
    {
     "data": {
      "text/plain": [
       "<AxesSubplot:>"
      ]
     },
     "execution_count": 35,
     "metadata": {},
     "output_type": "execute_result"
    },
    {
     "data": {
      "image/png": "[encoded data removed]",
      "text/plain": [
       "<Figure size 432x288 with 2 Axes>"
      ]
     },
     "metadata": {
      "needs_background": "light"
     },
     "output_type": "display_data"
    }
   ],
   "source": [
    "# Heatmap of pickup longitude and dropoff longitude\n",
    "sns.heatmap(df[['pickup_longitude','dropoff_longitude']].corr())"
   ]
  },
  {
   "cell_type": "markdown",
   "id": "fcdf9835",
   "metadata": {},
   "source": [
    "- Correlation defines the statistical linear realtionship between two variables.\n",
    "- It will helps to understand the realtionship between picup and drop longitute and also helps to understand most busiest longitude and trends line so that help to take decison on pricing , route and resources."
   ]
  },
  {
   "cell_type": "code",
   "execution_count": 36,
   "id": "16c02a87",
   "metadata": {},
   "outputs": [
    {
     "data": {
      "text/html": [
       "<div>\n",
       "<style scoped>\n",
       "    .dataframe tbody tr th:only-of-type {\n",
       "        vertical-align: middle;\n",
       "    }\n",
       "\n",
       "    .dataframe tbody tr th {\n",
       "        vertical-align: top;\n",
       "    }\n",
       "\n",
       "    .dataframe thead th {\n",
       "        text-align: right;\n",
       "    }\n",
       "</style>\n",
       "<table border=\"1\" class=\"dataframe\">\n",
       "  <thead>\n",
       "    <tr style=\"text-align: right;\">\n",
       "      <th></th>\n",
       "      <th>pickup_longitude</th>\n",
       "      <th>pickup_latitude</th>\n",
       "      <th>dropoff_longitude</th>\n",
       "      <th>dropoff_latitude</th>\n",
       "      <th>passenger_count</th>\n",
       "    </tr>\n",
       "  </thead>\n",
       "  <tbody>\n",
       "    <tr>\n",
       "      <th>pickup_longitude</th>\n",
       "      <td>1.000000</td>\n",
       "      <td>0.284509</td>\n",
       "      <td>0.437949</td>\n",
       "      <td>0.246595</td>\n",
       "      <td>0.006398</td>\n",
       "    </tr>\n",
       "    <tr>\n",
       "      <th>pickup_latitude</th>\n",
       "      <td>0.284509</td>\n",
       "      <td>1.000000</td>\n",
       "      <td>0.274527</td>\n",
       "      <td>0.520171</td>\n",
       "      <td>-0.025120</td>\n",
       "    </tr>\n",
       "    <tr>\n",
       "      <th>dropoff_longitude</th>\n",
       "      <td>0.437949</td>\n",
       "      <td>0.274527</td>\n",
       "      <td>1.000000</td>\n",
       "      <td>0.344918</td>\n",
       "      <td>0.012389</td>\n",
       "    </tr>\n",
       "    <tr>\n",
       "      <th>dropoff_latitude</th>\n",
       "      <td>0.246595</td>\n",
       "      <td>0.520171</td>\n",
       "      <td>0.344918</td>\n",
       "      <td>1.000000</td>\n",
       "      <td>0.005606</td>\n",
       "    </tr>\n",
       "    <tr>\n",
       "      <th>passenger_count</th>\n",
       "      <td>0.006398</td>\n",
       "      <td>-0.025120</td>\n",
       "      <td>0.012389</td>\n",
       "      <td>0.005606</td>\n",
       "      <td>1.000000</td>\n",
       "    </tr>\n",
       "  </tbody>\n",
       "</table>\n",
       "</div>"
      ],
      "text/plain": [
       "                   pickup_longitude  pickup_latitude  dropoff_longitude  \\\n",
       "pickup_longitude           1.000000         0.284509           0.437949   \n",
       "pickup_latitude            0.284509         1.000000           0.274527   \n",
       "dropoff_longitude          0.437949         0.274527           1.000000   \n",
       "dropoff_latitude           0.246595         0.520171           0.344918   \n",
       "passenger_count            0.006398        -0.025120           0.012389   \n",
       "\n",
       "                   dropoff_latitude  passenger_count  \n",
       "pickup_longitude           0.246595         0.006398  \n",
       "pickup_latitude            0.520171        -0.025120  \n",
       "dropoff_longitude          0.344918         0.012389  \n",
       "dropoff_latitude           1.000000         0.005606  \n",
       "passenger_count            0.005606         1.000000  "
      ]
     },
     "execution_count": 36,
     "metadata": {},
     "output_type": "execute_result"
    }
   ],
   "source": [
    "df.corr()"
   ]
  },
  {
   "cell_type": "code",
   "execution_count": 37,
   "id": "af7bf0df",
   "metadata": {},
   "outputs": [
    {
     "data": {
      "text/plain": [
       "<seaborn.axisgrid.JointGrid at 0x2dbdecc9550>"
      ]
     },
     "execution_count": 37,
     "metadata": {},
     "output_type": "execute_result"
    },
    {
     "data": {
      "image/png": "[encoded data removed]",
      "text/plain": [
       "<Figure size 432x432 with 3 Axes>"
      ]
     },
     "metadata": {
      "needs_background": "light"
     },
     "output_type": "display_data"
    }
   ],
   "source": [
    "sns.jointplot(x=df['pickup_longitude'],y=df['dropoff_longitude'],kind='reg')"
   ]
  },
  {
   "cell_type": "code",
   "execution_count": 38,
   "id": "a83abd34",
   "metadata": {},
   "outputs": [
    {
     "data": {
      "text/plain": [
       "<seaborn.axisgrid.PairGrid at 0x2dbdeccbeb0>"
      ]
     },
     "execution_count": 38,
     "metadata": {},
     "output_type": "execute_result"
    },
    {
     "data": {
      "image/png": "[encoded data removed]",
      "text/plain": [
       "<Figure size 813.125x720 with 20 Axes>"
      ]
     },
     "metadata": {
      "needs_background": "light"
     },
     "output_type": "display_data"
    }
   ],
   "source": [
    "sns.pairplot(df,hue='passenger_count')"
   ]
  },
  {
   "cell_type": "markdown",
   "id": "c2e53a67",
   "metadata": {},
   "source": [
    "### 11. What is the median passenger_count in the dataset, and how might this value provide insights into the user behavior or demand patterns?"
   ]
  },
  {
   "cell_type": "code",
   "execution_count": 39,
   "id": "ffb850f6",
   "metadata": {},
   "outputs": [
    {
     "data": {
      "text/plain": [
       "1.0"
      ]
     },
     "execution_count": 39,
     "metadata": {},
     "output_type": "execute_result"
    }
   ],
   "source": [
    "# median of passanger count in data set.\n",
    "df['passenger_count'].median()"
   ]
  },
  {
   "cell_type": "markdown",
   "id": "4007e5eb",
   "metadata": {},
   "source": [
    "- It helps to understand the user behaviour and demand patterns in following ways:\n",
    "    - Group size of the passanger so that provides services on tagert passenger category.\n",
    "    - User preference so that make availibility of products."
   ]
  },
  {
   "cell_type": "code",
   "execution_count": 40,
   "id": "b4f7548a",
   "metadata": {},
   "outputs": [
    {
     "name": "stderr",
     "output_type": "stream",
     "text": [
      "C:\\Users\\conec\\AppData\\Local\\Temp/ipykernel_3064/2606440367.py:2: FutureWarning: Dropping of nuisance columns in DataFrame reductions (with 'numeric_only=None') is deprecated; in a future version this will raise TypeError.  Select only valid columns before calling the reduction.\n",
      "  df.median()\n"
     ]
    },
    {
     "data": {
      "text/plain": [
       "pickup_longitude    -73.982326\n",
       "pickup_latitude      40.753051\n",
       "dropoff_longitude   -73.980015\n",
       "dropoff_latitude     40.754065\n",
       "passenger_count       1.000000\n",
       "dtype: float64"
      ]
     },
     "execution_count": 40,
     "metadata": {},
     "output_type": "execute_result"
    }
   ],
   "source": [
    "# it will find the of whole data sets which column has numberical data type.\n",
    "df.median()"
   ]
  },
  {
   "cell_type": "markdown",
   "id": "a4460e25",
   "metadata": {},
   "source": [
    "### 12. How many rows have pickup_latitude values greater than 41, and what insights might this provide about the spatial distribution or density of the pickups and dropoffs?"
   ]
  },
  {
   "cell_type": "code",
   "execution_count": 41,
   "id": "6514507a",
   "metadata": {},
   "outputs": [
    {
     "data": {
      "text/plain": [
       "9"
      ]
     },
     "execution_count": 41,
     "metadata": {},
     "output_type": "execute_result"
    }
   ],
   "source": [
    "# it will give the vlaues of pickup lattitude greater than 41.\n",
    "df['pickup_latitude'][df['pickup_latitude']>41].count()"
   ]
  },
  {
   "cell_type": "code",
   "execution_count": 42,
   "id": "7a5cd269",
   "metadata": {},
   "outputs": [
    {
     "data": {
      "text/plain": [
       "41.366138    7\n",
       "41.069660    1\n",
       "41.709555    1\n",
       "Name: pickup_latitude, dtype: int64"
      ]
     },
     "execution_count": 42,
     "metadata": {},
     "output_type": "execute_result"
    }
   ],
   "source": [
    "# it will count each values which is more than 41.\n",
    "a=df['pickup_latitude'][df['pickup_latitude']>41].value_counts() \n",
    "a"
   ]
  },
  {
   "cell_type": "markdown",
   "id": "37ad0ece",
   "metadata": {},
   "source": [
    "- it will help to understand pickup lattitude which value is grater than 41 so that take decison on that gerograpical area. hera we can see that only 9 rows are availbe out of total rows (i.e 9914) we can consider this as outliers point.\n"
   ]
  },
  {
   "cell_type": "code",
   "execution_count": 43,
   "id": "e386fe24",
   "metadata": {},
   "outputs": [
    {
     "name": "stdout",
     "output_type": "stream",
     "text": [
      "41.366138    7\n",
      "41.069660    1\n",
      "41.709555    1\n",
      "Name: pickup_latitude, dtype: int64\n"
     ]
    },
    {
     "data": {
      "text/plain": [
       "Text(0.5, 1.0, 'Values count which is greater than 41')"
      ]
     },
     "execution_count": 43,
     "metadata": {},
     "output_type": "execute_result"
    },
    {
     "data": {
      "image/png": "[encoded data removed]",
      "text/plain": [
       "<Figure size 432x288 with 1 Axes>"
      ]
     },
     "metadata": {},
     "output_type": "display_data"
    }
   ],
   "source": [
    "# pie shart to understad the\n",
    "a=df['pickup_latitude'][df['pickup_latitude']>41].value_counts() \n",
    "print(a)\n",
    "plt.pie(a,labels=a)\n",
    "plt.title(\"Values count which is greater than 41\")"
   ]
  },
  {
   "cell_type": "markdown",
   "id": "16dc0cfa",
   "metadata": {},
   "source": [
    "### 14. How many rows have pickup_longitude values between -74 and -73.5, and how might this spatial filter affect the analysis or visualization of the data?"
   ]
  },
  {
   "cell_type": "code",
   "execution_count": 44,
   "id": "29380752",
   "metadata": {},
   "outputs": [],
   "source": [
    "# find the number of rows have pickup longitude values betweeb -74 and -73.5\n",
    "a = df['pickup_longitude'][df['pickup_longitude'].between(-74, -73.5)]"
   ]
  },
  {
   "cell_type": "code",
   "execution_count": 45,
   "id": "95174da2",
   "metadata": {},
   "outputs": [
    {
     "data": {
      "text/plain": [
       "5694   -73.999979\n",
       "8439   -73.999977\n",
       "6349   -73.999974\n",
       "8717   -73.999966\n",
       "422    -73.999935\n",
       "          ...    \n",
       "8944   -73.776672\n",
       "3674   -73.776664\n",
       "5940   -73.776654\n",
       "7026   -73.776638\n",
       "4270   -73.776585\n",
       "Name: pickup_longitude, Length: 8522, dtype: float64"
      ]
     },
     "execution_count": 45,
     "metadata": {},
     "output_type": "execute_result"
    }
   ],
   "source": [
    "# viwing data in sorted order.\n",
    "a.sort_values()"
   ]
  },
  {
   "cell_type": "code",
   "execution_count": 46,
   "id": "f2ac4aeb",
   "metadata": {},
   "outputs": [
    {
     "name": "stdout",
     "output_type": "stream",
     "text": [
      "Rows have pickup_longitude values between -74 and -73.5 : 8522\n"
     ]
    }
   ],
   "source": [
    "print(\"Rows have pickup_longitude values between -74 and -73.5 :\",a.count())"
   ]
  },
  {
   "cell_type": "markdown",
   "id": "586054fb",
   "metadata": {},
   "source": [
    "- It will help to filter the pickup longitud of geographicall area to understand in batter way.\n",
    "- With the help of visualization we can view filter area very quickly."
   ]
  },
  {
   "cell_type": "markdown",
   "id": "a551f48e",
   "metadata": {},
   "source": [
    "### 15. What is the standard deviation of the dropoff_latitude column, and how might this value provide insights into the spatial distribution or variation of the dropoff locations?"
   ]
  },
  {
   "cell_type": "code",
   "execution_count": 47,
   "id": "55b4ba29",
   "metadata": {},
   "outputs": [
    {
     "data": {
      "text/plain": [
       "0.03543521142914974"
      ]
     },
     "execution_count": 47,
     "metadata": {},
     "output_type": "execute_result"
    }
   ],
   "source": [
    "std=df['dropoff_latitude'].std()\n",
    "std"
   ]
  },
  {
   "cell_type": "code",
   "execution_count": 62,
   "id": "3834e2f6",
   "metadata": {},
   "outputs": [
    {
     "data": {
      "text/plain": [
       "<matplotlib.patches.Polygon at 0x2dbdea52f10>"
      ]
     },
     "execution_count": 62,
     "metadata": {},
     "output_type": "execute_result"
    },
    {
     "data": {
      "image/png": "[encoded data removed]",
      "text/plain": [
       "<Figure size 1080x576 with 1 Axes>"
      ]
     },
     "metadata": {
      "needs_background": "light"
     },
     "output_type": "display_data"
    }
   ],
   "source": [
    "plt.figure(figsize=(15,8))\n",
    "df['dropoff_latitude'].hist()\n",
    "plt.xlabel(\"Dropoff Latitude Value\")\n",
    "plt.ylabel(\"No. of total rows count\")\n",
    "plt.title(\"Stndard daviation of the dropoff latitude\")\n",
    "\n",
    "x=df['dropoff_latitude'].mean()\n",
    "\n",
    "# 1std below the mean =  (mean-std)\n",
    "# 1std above the mean =  (mean+std)\n",
    "# 2std below the mean =  (mean-std*2)\n",
    "# 2std above the mean =  (mean+std*2)\n",
    "\n",
    "plt.axvline(x, color='k', linestyle='-')\n",
    "plt.axvline(x - std, color='y', linestyle='--')\n",
    "plt.axvline(x + std, color='y', linestyle='--')\n",
    "\n",
    "plt.axvline(x - std*2, color='r', linestyle='--')\n",
    "plt.axvline(x + std*2, color='r', linestyle='--')\n",
    "\n",
    "plt.axvline(x - std*3, color='b', linestyle='--')\n",
    "plt.axvline(x + std*3, color='b', linestyle='--')\n",
    "\n",
    "plt.axvline(x - std*4, color='g', linestyle='--')\n",
    "plt.axvline(x + std*4, color='g', linestyle='--')\n",
    "\n",
    "plt.axvspan(x - std, x + std ,alpha=0.2, color='red')"
   ]
  },
  {
   "cell_type": "markdown",
   "id": "6cd9a283",
   "metadata": {},
   "source": [
    "- Standard deviation measure how data point is related to mean value of that data point.\n",
    "- Standar deviation indicates how much the dropoff locations are spread out from the mean dropoff latitude value.\n",
    "- here standard deviation value is very low ,it means that it will be very close to the mean value of the dropoff lattitude.\n",
    "-"
   ]
  },
  {
   "cell_type": "markdown",
   "id": "850860bf",
   "metadata": {},
   "source": [
    "### 16. How many rows have passenger_count equal to 0, and what insights might this provide about the user behavior or data quality?"
   ]
  },
  {
   "cell_type": "code",
   "execution_count": 49,
   "id": "646e345b",
   "metadata": {},
   "outputs": [
    {
     "data": {
      "text/plain": [
       "Series([], Name: passenger_count, dtype: int64)"
      ]
     },
     "execution_count": 49,
     "metadata": {},
     "output_type": "execute_result"
    }
   ],
   "source": [
    "df['passenger_count'][df['passenger_count']==0]"
   ]
  },
  {
   "cell_type": "markdown",
   "id": "13b7059c",
   "metadata": {},
   "source": [
    "- There is no row havivng passengar count equal to 0.\n",
    "     - it provies insite user behavoir or data quality is any vlaue is misson or incorrect.\n",
    "     - Here we can see that there is not any vlaue it means that there is no missing, error vlaues in the given data set.\n",
    "      "
   ]
  },
  {
   "cell_type": "markdown",
   "id": "a260e693",
   "metadata": {},
   "source": [
    "### 17. What is the difference between the maximum and minimum pickup_longitude values, and how might this value affect the spatial analysis or visualization of the data?"
   ]
  },
  {
   "cell_type": "code",
   "execution_count": 50,
   "id": "08da8466",
   "metadata": {},
   "outputs": [
    {
     "data": {
      "text/plain": [
       "-72.986532"
      ]
     },
     "execution_count": 50,
     "metadata": {},
     "output_type": "execute_result"
    }
   ],
   "source": [
    "# it will find the maximum pickup longitude vlaue\n",
    "maximum=df['pickup_longitude'].max()\n",
    "maximum"
   ]
  },
  {
   "cell_type": "code",
   "execution_count": 51,
   "id": "7891a38b",
   "metadata": {},
   "outputs": [
    {
     "data": {
      "text/plain": [
       "-74.252193"
      ]
     },
     "execution_count": 51,
     "metadata": {},
     "output_type": "execute_result"
    }
   ],
   "source": [
    "# it will find the minimum pickup longitude value.\n",
    "minimum=df['pickup_longitude'].min()\n",
    "minimum"
   ]
  },
  {
   "cell_type": "code",
   "execution_count": 52,
   "id": "30179080",
   "metadata": {},
   "outputs": [
    {
     "data": {
      "text/plain": [
       "1.2656610000000086"
      ]
     },
     "execution_count": 52,
     "metadata": {},
     "output_type": "execute_result"
    }
   ],
   "source": [
    "# it will find difference between the maximum and minimum pickup longitude vlaue.\n",
    "difference=maximum-minimum\n",
    "difference"
   ]
  },
  {
   "cell_type": "markdown",
   "id": "c1d898f3",
   "metadata": {},
   "source": [
    "- It will find the total span spread area of pickup longitude in the given data set.\n",
    "- Large value denotes that it cover large geographical area.\n",
    "  - But in given dataset it's vlaues is small so it will cover small pickup longitude area. "
   ]
  },
  {
   "cell_type": "markdown",
   "id": "544f1970",
   "metadata": {},
   "source": [
    "### 18. How many rows have pickup_longitude values less than -74.1 or greater than -73.9, and how might this spatial filter affect the analysis or visualization of the data?"
   ]
  },
  {
   "cell_type": "code",
   "execution_count": 53,
   "id": "4a64bca3",
   "metadata": {},
   "outputs": [
    {
     "name": "stdout",
     "output_type": "stream",
     "text": [
      "Less than -74.1 : 9914\n",
      "Greater than -73.9 : 9914\n",
      "max pickup longtitude : -72.986532\n",
      "Min pickup longtitude : -74.252193\n"
     ]
    }
   ],
   "source": [
    "# for verification purpose.\n",
    "filt=(df['pickup_longitude']< (-74.1))\n",
    "print(\"Less than -74.1 :\",filt.count())\n",
    "\n",
    "filt1=(df['pickup_longitude'] > (-73.9))\n",
    "print(\"Greater than -73.9 :\",filt1.count())\n",
    "\n",
    "print(\"max pickup longtitude :\",df['pickup_longitude'].max())\n",
    "print(\"Min pickup longtitude :\",df['pickup_longitude'].min())"
   ]
  },
  {
   "cell_type": "code",
   "execution_count": 54,
   "id": "fe48456f",
   "metadata": {},
   "outputs": [
    {
     "data": {
      "text/plain": [
       "9914"
      ]
     },
     "execution_count": 54,
     "metadata": {},
     "output_type": "execute_result"
    }
   ],
   "source": [
    "#rows have pickup_longitude values less than -74.1 or greater than -73.9.\n",
    "filt=(df['pickup_longitude']< -74.1) & (df['pickup_longitude'] > -73.9)\n",
    "filt.count()"
   ]
  },
  {
   "cell_type": "code",
   "execution_count": 55,
   "id": "144d1a47",
   "metadata": {},
   "outputs": [
    {
     "name": "stdout",
     "output_type": "stream",
     "text": [
      "414\n"
     ]
    }
   ],
   "source": [
    "filtered_df = df[(df['pickup_longitude'] < -74.1) | (df['pickup_longitude'] > -73.9)]\n",
    "num_rows = filtered_df.shape[0]\n",
    "print(num_rows)\n"
   ]
  },
  {
   "cell_type": "code",
   "execution_count": 56,
   "id": "e0a509b0",
   "metadata": {},
   "outputs": [
    {
     "data": {
      "text/plain": [
       "9500"
      ]
     },
     "execution_count": 56,
     "metadata": {},
     "output_type": "execute_result"
    }
   ],
   "source": [
    "a = df['pickup_longitude'][df['pickup_longitude'].between(-74.1, -73.9)]\n",
    "a.count()"
   ]
  },
  {
   "cell_type": "markdown",
   "id": "3517cabe",
   "metadata": {},
   "source": [
    "##### specific range can provide insights into the spatial distribution of the pickups in the dataset. "
   ]
  },
  {
   "cell_type": "markdown",
   "id": "d7f139b7",
   "metadata": {},
   "source": [
    "### 19. What is the average distance (in miles) between pickup and dropoff locations, and how might this value provide insights into the spatial demand patterns or operational efficiency of the taxi service?"
   ]
  },
  {
   "cell_type": "markdown",
   "id": "73eb30ea",
   "metadata": {},
   "source": [
    "<img src=\"Haversian_formula_1.png\"/>"
   ]
  },
  {
   "cell_type": "markdown",
   "id": "64d80023",
   "metadata": {},
   "source": [
    "<img src=\"Haversian_formula.png\"/>"
   ]
  },
  {
   "cell_type": "code",
   "execution_count": 9,
   "id": "7367d9d2",
   "metadata": {},
   "outputs": [
    {
     "name": "stdout",
     "output_type": "stream",
     "text": [
      "Average distance between pickup and dropoff locations: 2.13 miles\n"
     ]
    }
   ],
   "source": [
    "from math import radians, sin, cos, sqrt, atan2\n",
    "def distance(lat1, lon1, lat2, lon2):\n",
    "    R = 3958.8 # earth radius in miles\n",
    "    lat1, lon1, lat2, lon2 = map(radians, [lat1, lon1, lat2, lon2])\n",
    "    dlat = lat2 - lat1\n",
    "    dlon = lon2 - lon1\n",
    "    a = sin(dlat / 2)**2 + cos(lat1) * cos(lat2) * sin(dlon / 2)**2\n",
    "    c = 2 * atan2(sqrt(a), sqrt(1 - a))\n",
    "    return (R * c)\n",
    "\n",
    "df['distance_in_miles'] = df.apply(lambda row: distance(row['pickup_latitude'], row['pickup_longitude'], row['dropoff_latitude'], row['dropoff_longitude']), axis=1) # 1 for rows adn 0 for column\n",
    "avg_distance = df['distance_in_miles'].mean()\n",
    "\n",
    "print(\"Average distance between pickup and dropoff locations: {:.2f} miles\".format(avg_distance))"
   ]
  },
  {
   "cell_type": "markdown",
   "id": "331e9db0",
   "metadata": {},
   "source": [
    "- This value can provide valuable insights into the spatial demand patterns and operational efficiency of the service.\n",
    "- lower average distance suggest that the service is more commonly used for short trips in geographical area.\n",
    "- Used to monitor the changes in demand."
   ]
  },
  {
   "cell_type": "code",
   "execution_count": 10,
   "id": "e583fcc1",
   "metadata": {},
   "outputs": [
    {
     "data": {
      "text/plain": [
       "62.135351517555456"
      ]
     },
     "execution_count": 10,
     "metadata": {},
     "output_type": "execute_result"
    }
   ],
   "source": [
    "df['distance_in_miles'].max() # maximum ditance"
   ]
  },
  {
   "cell_type": "code",
   "execution_count": 11,
   "id": "366150b3",
   "metadata": {},
   "outputs": [
    {
     "data": {
      "text/plain": [
       "6"
      ]
     },
     "execution_count": 11,
     "metadata": {},
     "output_type": "execute_result"
    }
   ],
   "source": [
    "df['passenger_count'].max() # maximum passangers"
   ]
  },
  {
   "cell_type": "code",
   "execution_count": 12,
   "id": "58433495",
   "metadata": {},
   "outputs": [
    {
     "data": {
      "text/plain": [
       "-72.986532"
      ]
     },
     "execution_count": 12,
     "metadata": {},
     "output_type": "execute_result"
    }
   ],
   "source": [
    "df['pickup_longitude'].max()"
   ]
  },
  {
   "cell_type": "markdown",
   "id": "cb0b3256",
   "metadata": {},
   "source": [
    "### 20. How many rows have a pickup_datetime in January 2015, and how might this temporal filter affect the analysis or visualization of the data?"
   ]
  },
  {
   "cell_type": "code",
   "execution_count": 58,
   "id": "99728ad4",
   "metadata": {},
   "outputs": [
    {
     "data": {
      "text/html": [
       "<div>\n",
       "<style scoped>\n",
       "    .dataframe tbody tr th:only-of-type {\n",
       "        vertical-align: middle;\n",
       "    }\n",
       "\n",
       "    .dataframe tbody tr th {\n",
       "        vertical-align: top;\n",
       "    }\n",
       "\n",
       "    .dataframe thead th {\n",
       "        text-align: right;\n",
       "    }\n",
       "</style>\n",
       "<table border=\"1\" class=\"dataframe\">\n",
       "  <thead>\n",
       "    <tr style=\"text-align: right;\">\n",
       "      <th></th>\n",
       "      <th>key</th>\n",
       "      <th>pickup_datetime</th>\n",
       "      <th>pickup_longitude</th>\n",
       "      <th>pickup_latitude</th>\n",
       "      <th>dropoff_longitude</th>\n",
       "      <th>dropoff_latitude</th>\n",
       "      <th>passenger_count</th>\n",
       "      <th>distance_in_miles</th>\n",
       "    </tr>\n",
       "  </thead>\n",
       "  <tbody>\n",
       "    <tr>\n",
       "      <th>0</th>\n",
       "      <td>2015-01-27 13:08:24.0000002</td>\n",
       "      <td>2015-01-27 13:08:24 UTC</td>\n",
       "      <td>-73.973320</td>\n",
       "      <td>40.763805</td>\n",
       "      <td>-73.981430</td>\n",
       "      <td>40.743835</td>\n",
       "      <td>1</td>\n",
       "      <td>1.443623</td>\n",
       "    </tr>\n",
       "    <tr>\n",
       "      <th>1</th>\n",
       "      <td>2015-01-27 13:08:24.0000003</td>\n",
       "      <td>2015-01-27 13:08:24 UTC</td>\n",
       "      <td>-73.986862</td>\n",
       "      <td>40.719383</td>\n",
       "      <td>-73.998886</td>\n",
       "      <td>40.739201</td>\n",
       "      <td>1</td>\n",
       "      <td>1.507061</td>\n",
       "    </tr>\n",
       "    <tr>\n",
       "      <th>2</th>\n",
       "      <td>2011-10-08 11:53:44.0000002</td>\n",
       "      <td>2011-10-08 11:53:44 UTC</td>\n",
       "      <td>-73.982524</td>\n",
       "      <td>40.751260</td>\n",
       "      <td>-73.979654</td>\n",
       "      <td>40.746139</td>\n",
       "      <td>1</td>\n",
       "      <td>0.384402</td>\n",
       "    </tr>\n",
       "    <tr>\n",
       "      <th>3</th>\n",
       "      <td>2012-12-01 21:12:12.0000002</td>\n",
       "      <td>2012-12-01 21:12:12 UTC</td>\n",
       "      <td>-73.981160</td>\n",
       "      <td>40.767807</td>\n",
       "      <td>-73.990448</td>\n",
       "      <td>40.751635</td>\n",
       "      <td>1</td>\n",
       "      <td>1.218543</td>\n",
       "    </tr>\n",
       "    <tr>\n",
       "      <th>4</th>\n",
       "      <td>2012-12-01 21:12:12.0000003</td>\n",
       "      <td>2012-12-01 21:12:12 UTC</td>\n",
       "      <td>-73.966046</td>\n",
       "      <td>40.789775</td>\n",
       "      <td>-73.988565</td>\n",
       "      <td>40.744427</td>\n",
       "      <td>1</td>\n",
       "      <td>3.347551</td>\n",
       "    </tr>\n",
       "  </tbody>\n",
       "</table>\n",
       "</div>"
      ],
      "text/plain": [
       "                           key          pickup_datetime  pickup_longitude  \\\n",
       "0  2015-01-27 13:08:24.0000002  2015-01-27 13:08:24 UTC        -73.973320   \n",
       "1  2015-01-27 13:08:24.0000003  2015-01-27 13:08:24 UTC        -73.986862   \n",
       "2  2011-10-08 11:53:44.0000002  2011-10-08 11:53:44 UTC        -73.982524   \n",
       "3  2012-12-01 21:12:12.0000002  2012-12-01 21:12:12 UTC        -73.981160   \n",
       "4  2012-12-01 21:12:12.0000003  2012-12-01 21:12:12 UTC        -73.966046   \n",
       "\n",
       "   pickup_latitude  dropoff_longitude  dropoff_latitude  passenger_count  \\\n",
       "0        40.763805         -73.981430         40.743835                1   \n",
       "1        40.719383         -73.998886         40.739201                1   \n",
       "2        40.751260         -73.979654         40.746139                1   \n",
       "3        40.767807         -73.990448         40.751635                1   \n",
       "4        40.789775         -73.988565         40.744427                1   \n",
       "\n",
       "   distance_in_miles  \n",
       "0           1.443623  \n",
       "1           1.507061  \n",
       "2           0.384402  \n",
       "3           1.218543  \n",
       "4           3.347551  "
      ]
     },
     "execution_count": 58,
     "metadata": {},
     "output_type": "execute_result"
    }
   ],
   "source": [
    "df.head(5)"
   ]
  },
  {
   "cell_type": "code",
   "execution_count": 59,
   "id": "1dbfbae3",
   "metadata": {},
   "outputs": [
    {
     "name": "stdout",
     "output_type": "stream",
     "text": [
      "94\n"
     ]
    }
   ],
   "source": [
    "jan_row_15 = df[df['pickup_datetime'].str.startswith('2015-01')]\n",
    "\n",
    "print(len(jan_row_15))\n"
   ]
  },
  {
   "cell_type": "markdown",
   "id": "91a4ec40",
   "metadata": {},
   "source": [
    "#### Another Method"
   ]
  },
  {
   "cell_type": "code",
   "execution_count": 60,
   "id": "1d80b455",
   "metadata": {},
   "outputs": [
    {
     "data": {
      "text/html": [
       "<div>\n",
       "<style scoped>\n",
       "    .dataframe tbody tr th:only-of-type {\n",
       "        vertical-align: middle;\n",
       "    }\n",
       "\n",
       "    .dataframe tbody tr th {\n",
       "        vertical-align: top;\n",
       "    }\n",
       "\n",
       "    .dataframe thead th {\n",
       "        text-align: right;\n",
       "    }\n",
       "</style>\n",
       "<table border=\"1\" class=\"dataframe\">\n",
       "  <thead>\n",
       "    <tr style=\"text-align: right;\">\n",
       "      <th></th>\n",
       "      <th>key</th>\n",
       "      <th>pickup_datetime</th>\n",
       "      <th>pickup_longitude</th>\n",
       "      <th>pickup_latitude</th>\n",
       "      <th>dropoff_longitude</th>\n",
       "      <th>dropoff_latitude</th>\n",
       "      <th>passenger_count</th>\n",
       "      <th>distance_in_miles</th>\n",
       "      <th>date</th>\n",
       "    </tr>\n",
       "  </thead>\n",
       "  <tbody>\n",
       "    <tr>\n",
       "      <th>0</th>\n",
       "      <td>2015-01-27 13:08:24.0000002</td>\n",
       "      <td>2015-01-27 13:08:24 UTC</td>\n",
       "      <td>-73.973320</td>\n",
       "      <td>40.763805</td>\n",
       "      <td>-73.981430</td>\n",
       "      <td>40.743835</td>\n",
       "      <td>1</td>\n",
       "      <td>1.443623</td>\n",
       "      <td>2015-01-27 13:08:24+00:00</td>\n",
       "    </tr>\n",
       "    <tr>\n",
       "      <th>1</th>\n",
       "      <td>2015-01-27 13:08:24.0000003</td>\n",
       "      <td>2015-01-27 13:08:24 UTC</td>\n",
       "      <td>-73.986862</td>\n",
       "      <td>40.719383</td>\n",
       "      <td>-73.998886</td>\n",
       "      <td>40.739201</td>\n",
       "      <td>1</td>\n",
       "      <td>1.507061</td>\n",
       "      <td>2015-01-27 13:08:24+00:00</td>\n",
       "    </tr>\n",
       "    <tr>\n",
       "      <th>2</th>\n",
       "      <td>2011-10-08 11:53:44.0000002</td>\n",
       "      <td>2011-10-08 11:53:44 UTC</td>\n",
       "      <td>-73.982524</td>\n",
       "      <td>40.751260</td>\n",
       "      <td>-73.979654</td>\n",
       "      <td>40.746139</td>\n",
       "      <td>1</td>\n",
       "      <td>0.384402</td>\n",
       "      <td>2011-10-08 11:53:44+00:00</td>\n",
       "    </tr>\n",
       "    <tr>\n",
       "      <th>3</th>\n",
       "      <td>2012-12-01 21:12:12.0000002</td>\n",
       "      <td>2012-12-01 21:12:12 UTC</td>\n",
       "      <td>-73.981160</td>\n",
       "      <td>40.767807</td>\n",
       "      <td>-73.990448</td>\n",
       "      <td>40.751635</td>\n",
       "      <td>1</td>\n",
       "      <td>1.218543</td>\n",
       "      <td>2012-12-01 21:12:12+00:00</td>\n",
       "    </tr>\n",
       "    <tr>\n",
       "      <th>4</th>\n",
       "      <td>2012-12-01 21:12:12.0000003</td>\n",
       "      <td>2012-12-01 21:12:12 UTC</td>\n",
       "      <td>-73.966046</td>\n",
       "      <td>40.789775</td>\n",
       "      <td>-73.988565</td>\n",
       "      <td>40.744427</td>\n",
       "      <td>1</td>\n",
       "      <td>3.347551</td>\n",
       "      <td>2012-12-01 21:12:12+00:00</td>\n",
       "    </tr>\n",
       "  </tbody>\n",
       "</table>\n",
       "</div>"
      ],
      "text/plain": [
       "                           key          pickup_datetime  pickup_longitude  \\\n",
       "0  2015-01-27 13:08:24.0000002  2015-01-27 13:08:24 UTC        -73.973320   \n",
       "1  2015-01-27 13:08:24.0000003  2015-01-27 13:08:24 UTC        -73.986862   \n",
       "2  2011-10-08 11:53:44.0000002  2011-10-08 11:53:44 UTC        -73.982524   \n",
       "3  2012-12-01 21:12:12.0000002  2012-12-01 21:12:12 UTC        -73.981160   \n",
       "4  2012-12-01 21:12:12.0000003  2012-12-01 21:12:12 UTC        -73.966046   \n",
       "\n",
       "   pickup_latitude  dropoff_longitude  dropoff_latitude  passenger_count  \\\n",
       "0        40.763805         -73.981430         40.743835                1   \n",
       "1        40.719383         -73.998886         40.739201                1   \n",
       "2        40.751260         -73.979654         40.746139                1   \n",
       "3        40.767807         -73.990448         40.751635                1   \n",
       "4        40.789775         -73.988565         40.744427                1   \n",
       "\n",
       "   distance_in_miles                      date  \n",
       "0           1.443623 2015-01-27 13:08:24+00:00  \n",
       "1           1.507061 2015-01-27 13:08:24+00:00  \n",
       "2           0.384402 2011-10-08 11:53:44+00:00  \n",
       "3           1.218543 2012-12-01 21:12:12+00:00  \n",
       "4           3.347551 2012-12-01 21:12:12+00:00  "
      ]
     },
     "execution_count": 60,
     "metadata": {},
     "output_type": "execute_result"
    }
   ],
   "source": [
    "# Converting pickup_datetime column into datetime format\n",
    "df['date'] = pd.to_datetime(df['pickup_datetime'])\n",
    "df.head(5)\n"
   ]
  },
  {
   "cell_type": "code",
   "execution_count": 61,
   "id": "7415212f",
   "metadata": {},
   "outputs": [
    {
     "name": "stdout",
     "output_type": "stream",
     "text": [
      "94\n"
     ]
    }
   ],
   "source": [
    "# Filter the rows based on requirement.\n",
    "num_rows = len(df[(df['date'].dt.year == 2015) & (df['date'].dt.month == 1)])\n",
    "\n",
    "print(num_rows)"
   ]
  },
  {
   "cell_type": "markdown",
   "id": "d085fb48",
   "metadata": {},
   "source": [
    "- there are 94 rows have a pickup datetime in january 2015.\n",
    "- It will use to find the analytics and visualization of data in year 2015 in month of january.\n",
    "- It will helps in decision making."
   ]
  },
  {
   "cell_type": "code",
   "execution_count": null,
   "id": "9002a6ea",
   "metadata": {},
   "outputs": [],
   "source": []
  }
 ],
 "metadata": {
  "kernelspec": {
   "display_name": "Python 3 (ipykernel)",
   "language": "python",
   "name": "python3"
  },
  "language_info": {
   "codemirror_mode": {
    "name": "ipython",
    "version": 3
   },
   "file_extension": ".py",
   "mimetype": "text/x-python",
   "name": "python",
   "nbconvert_exporter": "python",
   "pygments_lexer": "ipython3",
   "version": "3.9.13"
  }
 },
 "nbformat": 4,
 "nbformat_minor": 5
}
