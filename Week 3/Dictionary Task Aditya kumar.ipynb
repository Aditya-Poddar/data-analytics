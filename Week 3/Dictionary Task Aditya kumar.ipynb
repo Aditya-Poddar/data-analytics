{
 "cells": [
  {
   "cell_type": "markdown",
   "id": "30ef5b42",
   "metadata": {},
   "source": [
    "## 1. Write a Python function that takes in two dictionaries and returns a dictionary that contains only the keys that are present in both dictionaries."
   ]
  },
  {
   "cell_type": "code",
   "execution_count": 1,
   "id": "8646538e",
   "metadata": {},
   "outputs": [
    {
     "data": {
      "text/plain": [
       "{'name': 'aditya'}"
      ]
     },
     "execution_count": 1,
     "metadata": {},
     "output_type": "execute_result"
    }
   ],
   "source": [
    "dict1={\"name\":\"aditya\",\"roll\":\"304\"}\n",
    "dict2={\"name\":\"Raju\",\"subject\":\"CSE\"}\n",
    "dict3={}\n",
    "def fun(dict1,dict2):\n",
    "    for key in dict1.keys():\n",
    "        if key in dict2.keys(): # using membership opertaor \"in\" or \"not in\"\n",
    "            dict3[key]=dict1[key]\n",
    "    return dict3\n",
    "\n",
    "fun(dict1,dict2)\n"
   ]
  },
  {
   "cell_type": "code",
   "execution_count": 8,
   "id": "22ad134e",
   "metadata": {},
   "outputs": [
    {
     "data": {
      "text/plain": [
       "[{'name': 'aditya', 'roll': '304'}, {'name': 'Raju', 'subject': 'CSE'}]"
      ]
     },
     "execution_count": 8,
     "metadata": {},
     "output_type": "execute_result"
    }
   ],
   "source": [
    "l=[]\n",
    "l.append(dict1)\n",
    "l.append(dict2)\n",
    "l"
   ]
  },
  {
   "cell_type": "code",
   "execution_count": 2,
   "id": "5a9142c2",
   "metadata": {},
   "outputs": [],
   "source": [
    "# key=[]\n",
    "# dict4={}\n",
    "# for i in range(int(input(\"How many key you want to add:\"))):\n",
    "#     key.append(input(\"Enter {} key name:\".format(i+1)))\n",
    "#     dict4[key[i]]=input(\"Enter {} key value:\".format(i+1))\n",
    "    \n",
    "# dict4"
   ]
  },
  {
   "cell_type": "code",
   "execution_count": 9,
   "id": "99c7403a",
   "metadata": {},
   "outputs": [],
   "source": [
    "def program1():\n",
    "    key=[]\n",
    "    diclist=[]\n",
    "    dictnew={}\n",
    "    for j in range(int(input(\"Enter the no. of dict:\"))):\n",
    "        for i in range(int(input(\"How many items you want in each dictionary:\"))):\n",
    "            key.append(input(\"enter the {} key name :\".format(i+1)))\n",
    "            dictnew[key[i]]=input(\"enter the {} key value:\".format(i+1))\n",
    "            diclist.append(dictnew)\n",
    "    return diclist\n",
    "            "
   ]
  },
  {
   "cell_type": "code",
   "execution_count": 11,
   "id": "c0a20687",
   "metadata": {},
   "outputs": [
    {
     "name": "stdout",
     "output_type": "stream",
     "text": [
      "Enter the no. of dict:2\n",
      "How many items you want in each dictionary:2\n",
      "enter the 1 key name :a\n",
      "enter the 1 key value:2\n",
      "enter the 2 key name :b\n",
      "enter the 2 key value:3\n",
      "How many items you want in each dictionary:2\n",
      "enter the 1 key name :ed\n",
      "enter the 1 key value:34\n",
      "enter the 2 key name :fg\n",
      "enter the 2 key value:45\n"
     ]
    },
    {
     "data": {
      "text/plain": [
       "[{'a': '34', 'b': '45'},\n",
       " {'a': '34', 'b': '45'},\n",
       " {'a': '34', 'b': '45'},\n",
       " {'a': '34', 'b': '45'}]"
      ]
     },
     "execution_count": 11,
     "metadata": {},
     "output_type": "execute_result"
    }
   ],
   "source": [
    "program1()"
   ]
  },
  {
   "cell_type": "markdown",
   "id": "f831fc58",
   "metadata": {},
   "source": [
    "#### "
   ]
  }
 ],
 "metadata": {
  "kernelspec": {
   "display_name": "Python 3 (ipykernel)",
   "language": "python",
   "name": "python3"
  },
  "language_info": {
   "codemirror_mode": {
    "name": "ipython",
    "version": 3
   },
   "file_extension": ".py",
   "mimetype": "text/x-python",
   "name": "python",
   "nbconvert_exporter": "python",
   "pygments_lexer": "ipython3",
   "version": "3.9.13"
  }
 },
 "nbformat": 4,
 "nbformat_minor": 5
}
