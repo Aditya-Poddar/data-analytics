{
 "cells": [
  {
   "cell_type": "markdown",
   "id": "a04c791d",
   "metadata": {},
   "source": [
    "<img src=\"title.png\"/>"
   ]
  },
  {
   "cell_type": "markdown",
   "id": "30ef5b42",
   "metadata": {},
   "source": [
    "## 1. Write a Python function that takes in two dictionaries and returns a dictionary that contains only the keys that are present in both dictionaries."
   ]
  },
  {
   "cell_type": "code",
   "execution_count": 71,
   "id": "8646538e",
   "metadata": {},
   "outputs": [],
   "source": [
    "def fun(dict1,dict2):\n",
    "    dict3={}\n",
    "    for key in dict1.keys():\n",
    "        if key in dict2.keys(): # using membership opertaor \"in\" or \"not in\"\n",
    "            dict3[key]=dict1[key]\n",
    "    return dict3"
   ]
  },
  {
   "cell_type": "code",
   "execution_count": 73,
   "id": "a3819c24",
   "metadata": {},
   "outputs": [
    {
     "data": {
      "text/plain": [
       "{'name': 'aditya', 'branch': 'ECE'}"
      ]
     },
     "execution_count": 73,
     "metadata": {},
     "output_type": "execute_result"
    }
   ],
   "source": [
    "dict1={\"name\":\"aditya\",\"roll\":\"304\",\"branch\":\"ECE\"}\n",
    "dict2={\"name\":\"Raju\",\"subject\":\"CSE\",'branch':\"It\"}\n",
    "\n",
    "fun(dict1,dict2)"
   ]
  },
  {
   "cell_type": "code",
   "execution_count": 50,
   "id": "5a9142c2",
   "metadata": {},
   "outputs": [],
   "source": [
    "# Python code to creat a single user defined dictionary.\n",
    "\n",
    "# key=[]\n",
    "# dict4={}\n",
    "# for i in range(int(input(\"How many key you want to add:\"))):\n",
    "#     key.append(input(\"Enter {} key name:\".format(i+1)))\n",
    "#     dict4[key[i]]=input(\"Enter {} key value:\".format(i+1))\n",
    "    \n",
    "# dict4"
   ]
  },
  {
   "cell_type": "code",
   "execution_count": 51,
   "id": "99c7403a",
   "metadata": {},
   "outputs": [],
   "source": [
    "# python code to crate a user defined dictionary list.\n",
    "\n",
    "# def program1():\n",
    "#     key=[]\n",
    "#     diclist=[]\n",
    "#     dictnew={}\n",
    "#     for j in range(int(input(\"Enter the no. of dict:\"))):\n",
    "#         for i in range(int(input(\"How many items you want in each dictionary:\"))):\n",
    "#             key.append(input(\"enter the {} key name :\".format(i+1)))\n",
    "#             dictnew[key[i]]=input(\"enter the {} key value:\".format(i+1))\n",
    "#             diclist.append(dictnew)\n",
    "#     return diclist\n",
    "# progam1()"
   ]
  },
  {
   "cell_type": "markdown",
   "id": "4260c507",
   "metadata": {},
   "source": [
    "## 2. Write a Python function that takes in a list of dictionaries and a key, and returns a new list of dictionaries sorted by the value of the specified key in each dictionary."
   ]
  },
  {
   "cell_type": "markdown",
   "id": "dfdb7d9b",
   "metadata": {},
   "source": [
    "- Syntax\n",
    "  - sorted(iterable, key=key, reverse=reverse)\n",
    "  - where key is optional , by default key is none."
   ]
  },
  {
   "cell_type": "code",
   "execution_count": 69,
   "id": "37c79e18",
   "metadata": {},
   "outputs": [],
   "source": [
    "dict1={\"Age\":22,\"Marks\":85,\"CSE\":20,'Science':75}\n",
    "dict2={\"Age\":34,\"Marks\":685,\"CSE\":220,'Science':15}\n",
    "dict3={\"Age\":62,\"Marks\":89,\"CSE\":90,'Science':65}\n",
    "mylist=[dict1,dict2,dict3]\n",
    "\n",
    "def fun(mylist,key):    \n",
    "    return sorted(mylist,key=lambda x:x[key])\n",
    "    "
   ]
  },
  {
   "cell_type": "code",
   "execution_count": 70,
   "id": "1436ac19",
   "metadata": {},
   "outputs": [
    {
     "data": {
      "text/plain": [
       "[{'Age': 34, 'Marks': 685, 'CSE': 220, 'Science': 15},\n",
       " {'Age': 62, 'Marks': 89, 'CSE': 90, 'Science': 65},\n",
       " {'Age': 22, 'Marks': 85, 'CSE': 20, 'Science': 75}]"
      ]
     },
     "execution_count": 70,
     "metadata": {},
     "output_type": "execute_result"
    }
   ],
   "source": [
    "key3='Science'\n",
    "fun(mylist,key3)"
   ]
  },
  {
   "cell_type": "code",
   "execution_count": 67,
   "id": "c6b84c69",
   "metadata": {},
   "outputs": [],
   "source": [
    "# m=[2,1,23,12,0,100,'Age', 'Marks', 'CSE', 'Science',5]\n",
    "# print(m)\n",
    "\n",
    "# mod=[]\n",
    "# modstr=[]\n",
    "# for i in range(len(m)):\n",
    "#     if type(m[i])!=str:\n",
    "#         mod.append(m[i])\n",
    "#         mod.sort()\n",
    "#     else:\n",
    "#         modstr.append(m[i])\n",
    "#         print(modstr)\n",
    "#         modstr.sort()\n",
    "# print(m)\n",
    "# print(mod)\n",
    "# print(modstr)\n",
    "# print(mod+modstr)"
   ]
  },
  {
   "cell_type": "markdown",
   "id": "3e3c4c93",
   "metadata": {},
   "source": [
    "## 3. Write a Python function that takes in a dictionary and returns the key with the maximum value."
   ]
  },
  {
   "cell_type": "code",
   "execution_count": 116,
   "id": "f1878284",
   "metadata": {},
   "outputs": [],
   "source": [
    "def fun(dict1):\n",
    "    newlist=[]\n",
    "    newdict={}\n",
    "    \n",
    "    for key in dict1.keys():\n",
    "        newlist.append(dict1[key])\n",
    "    maximum=max(newlist)\n",
    "\n",
    "    for key in dict1.keys():\n",
    "        if dict1[key]==maximum:\n",
    "            newdict[key]=maximum\n",
    "        else:\n",
    "            pass\n",
    "    \n",
    "    x=\"updated new Dictionary : {} \\nKey with maximum Value : {}\".format(newdict,newdict.keys())\n",
    "    print(x)"
   ]
  },
  {
   "cell_type": "code",
   "execution_count": 117,
   "id": "435b5ca1",
   "metadata": {},
   "outputs": [
    {
     "name": "stdout",
     "output_type": "stream",
     "text": [
      "updated new Dictionary : {'Marks': 85} \n",
      "Key with maximum Value : dict_keys(['Marks'])\n"
     ]
    }
   ],
   "source": [
    "dict12={\"age\":22,\"Marks\":85,\"Math\":20,'Science':75}\n",
    "\n",
    "fun(dict12)"
   ]
  },
  {
   "cell_type": "code",
   "execution_count": 47,
   "id": "4ecd42a5",
   "metadata": {},
   "outputs": [],
   "source": [
    "# # in case of string and integer values we will use this method to find the maximum values in a list\n",
    "\n",
    "# lis=[1,2,5,3,7,4,'a','b']\n",
    "# b=[]\n",
    "# print(\"Initial List :\",lis)\n",
    "# for i in range(len(lis)):\n",
    "#     try:\n",
    "#         if type(lis[i])!=str:\n",
    "#             b.append(lis[i])\n",
    "# #             print(b)\n",
    "#     except:\n",
    "#         b.remove(lis[i])\n",
    "# print(\"Updated List :\",b)"
   ]
  },
  {
   "cell_type": "markdown",
   "id": "f831fc58",
   "metadata": {},
   "source": [
    "## 4. Write a Python function that takes in a dictionary and returns a new dictionary that contains only the keys that have even values."
   ]
  },
  {
   "cell_type": "code",
   "execution_count": 16,
   "id": "4208065a",
   "metadata": {},
   "outputs": [],
   "source": [
    "def fun(dict1):\n",
    "    dictnew={}\n",
    "    for key in dict1.keys():\n",
    "        try:\n",
    "            if int(dict1[key]) % 2 == 0:\n",
    "                dictnew[key]=dict1[key]\n",
    "        except:\n",
    "            pass\n",
    "\n",
    "    return dictnew"
   ]
  },
  {
   "cell_type": "code",
   "execution_count": 17,
   "id": "4891c451",
   "metadata": {},
   "outputs": [
    {
     "data": {
      "text/plain": [
       "{'age': 22, 'Math': 20}"
      ]
     },
     "execution_count": 17,
     "metadata": {},
     "output_type": "execute_result"
    }
   ],
   "source": [
    "dict1={'name':'Aditya',\"age\":22,\"gender\":\"Male\",\"Marks\":85,\"Math\":20}\n",
    "\n",
    "fun(dict1)"
   ]
  },
  {
   "cell_type": "markdown",
   "id": "088d6188",
   "metadata": {},
   "source": [
    "## 5. Write a Python function that takes in a dictionary and returns a new dictionary that contains the keys sorted by their values in descending order."
   ]
  },
  {
   "cell_type": "code",
   "execution_count": 65,
   "id": "5732dfae",
   "metadata": {},
   "outputs": [],
   "source": [
    "def sort_dict_by_value(dictionary):\n",
    "    sorted_keys = sorted(dictionary, key=dictionary.get, reverse=True)\n",
    "    sorted_dict = {key: dictionary[key] for key in sorted_keys}\n",
    "    return sorted_dict\n"
   ]
  },
  {
   "cell_type": "code",
   "execution_count": 66,
   "id": "2e79e266",
   "metadata": {},
   "outputs": [
    {
     "data": {
      "text/plain": [
       "{'Marks': 85, 'Science': 75, 'Age': 22, 'CSE': 20}"
      ]
     },
     "execution_count": 66,
     "metadata": {},
     "output_type": "execute_result"
    }
   ],
   "source": [
    "dict1={\"Age\":22,\"Marks\":85,\"CSE\":20,'Science':75}\n",
    "\n",
    "sort_dict_by_value(dict1)"
   ]
  },
  {
   "cell_type": "markdown",
   "id": "82c8f9b8",
   "metadata": {},
   "source": [
    "## 6. Write a Python function that takes in a list of dictionaries and returns a new list of dictionaries that contain only the keys that are present in all dictionaries."
   ]
  },
  {
   "cell_type": "code",
   "execution_count": null,
   "id": "f0a93a62",
   "metadata": {},
   "outputs": [],
   "source": [
    "dict1={\"Age\":22,\"Marks\":85,\"CSE\":20,'Science':75}\n",
    "dict2={\"Marks\":685,\"CSE\":220,'Science':15}\n",
    "dict3={\"Age\":62,\"Marks\":89,\"CSE\":90,'Science':65}\n",
    "mylist=[dict1,dict2,dict3]\n",
    "\n",
    "def fun(mylist,key):\n",
    "    newdict=[]\n",
    "    for i in range(len(mylist)):\n",
    "        for key in i:\n",
    "            \n",
    "            \n",
    "        "
   ]
  },
  {
   "cell_type": "code",
   "execution_count": null,
   "id": "ccc0c948",
   "metadata": {},
   "outputs": [],
   "source": []
  },
  {
   "cell_type": "markdown",
   "id": "29f99518",
   "metadata": {},
   "source": [
    "## 7. Write a Python function that takes in a dictionary and a list of keys, and returns a new dictionary that contains only the specified keys and their corresponding values."
   ]
  },
  {
   "cell_type": "code",
   "execution_count": 3,
   "id": "868aa794",
   "metadata": {},
   "outputs": [],
   "source": [
    "def fun(dict1,mylist):\n",
    "    newdict={}\n",
    "    for key in dict1.keys():\n",
    "        if key in mylist:\n",
    "            newdict[key]=dict1[key]\n",
    "        else:\n",
    "            pass\n",
    "    return newdict"
   ]
  },
  {
   "cell_type": "code",
   "execution_count": 4,
   "id": "5c2cb972",
   "metadata": {},
   "outputs": [
    {
     "data": {
      "text/plain": [
       "{'name': 'Aditya', 'gender': 'Male'}"
      ]
     },
     "execution_count": 4,
     "metadata": {},
     "output_type": "execute_result"
    }
   ],
   "source": [
    "dict1={'name':'Aditya',\"age\":22,\"gender\":\"Male\",\"Marks\":85,\"Math\":20}\n",
    "mylist=['name','computer','science','gender']\n",
    "\n",
    "fun(dict1,mylist)"
   ]
  },
  {
   "cell_type": "markdown",
   "id": "914012b1",
   "metadata": {},
   "source": [
    "## 8. Write a Python function that takes in a dictionary and a list of keys, and returns a new dictionary that contains only the keys that are not present in the list."
   ]
  },
  {
   "cell_type": "code",
   "execution_count": 18,
   "id": "e8e6bf04",
   "metadata": {},
   "outputs": [],
   "source": [
    "def fun(dict1,mylist):\n",
    "    newdict={}\n",
    "    for key in dict1.keys():\n",
    "        if key in mylist:\n",
    "            pass\n",
    "        else:\n",
    "            newdict[key]=dict1[key]\n",
    "    return newdict"
   ]
  },
  {
   "cell_type": "code",
   "execution_count": 20,
   "id": "6269d53c",
   "metadata": {},
   "outputs": [
    {
     "data": {
      "text/plain": [
       "{'age': 22, 'Marks': 85, 'Math': 20}"
      ]
     },
     "execution_count": 20,
     "metadata": {},
     "output_type": "execute_result"
    }
   ],
   "source": [
    "dict1={'name':'Aditya',\"age\":22,\"gender\":\"Male\",\"Marks\":85,\"Math\":20}\n",
    "mylist=['name','computer','science','gender']\n",
    "\n",
    "fun(dict1,mylist)"
   ]
  },
  {
   "cell_type": "markdown",
   "id": "3aa6115a",
   "metadata": {},
   "source": [
    "## 9. Write a Python function that takes in a list of dictionaries and a key, and returns a new list of dictionaries that contain only the dictionaries with the specified key."
   ]
  },
  {
   "cell_type": "code",
   "execution_count": 127,
   "id": "da7ca194",
   "metadata": {},
   "outputs": [],
   "source": [
    "def fun(mylist,key):\n",
    "    newdict=[]\n",
    "    for i in mylist:\n",
    "        if key in i:\n",
    "            newdict.append(i)\n",
    "        else:\n",
    "            pass\n",
    "    return newdict"
   ]
  },
  {
   "cell_type": "code",
   "execution_count": 133,
   "id": "8e353cc6",
   "metadata": {},
   "outputs": [
    {
     "data": {
      "text/plain": [
       "[{'Age': 22, 'Marks': 85, 'CSE': 20, 'Science': 75},\n",
       " {'Age': 62, 'Marks': 89, 'CSE': 90, 'Science': 65}]"
      ]
     },
     "execution_count": 133,
     "metadata": {},
     "output_type": "execute_result"
    }
   ],
   "source": [
    "dict1={\"Age\":22,\"Marks\":85,\"CSE\":20,'Science':75}\n",
    "dict2={\"Marks\":685,\"CSE\":220,'Science':15}\n",
    "dict3={\"Age\":62,\"Marks\":89,\"CSE\":90,'Science':65}\n",
    "\n",
    "mylist=[dict1,dict2,dict3]\n",
    "key =\"Age\"\n",
    "\n",
    "fun(mylist,key)"
   ]
  },
  {
   "cell_type": "markdown",
   "id": "84d42e0d",
   "metadata": {},
   "source": [
    "## 10. Write a Python function that takes in a dictionary and a list of keys, and returns a new dictionary that contains only the keys that are present in the dictionary and not in the list"
   ]
  },
  {
   "cell_type": "code",
   "execution_count": 1,
   "id": "389ee6a0",
   "metadata": {},
   "outputs": [],
   "source": [
    "def fun(dict1,mylist):\n",
    "    newdict={}\n",
    "    for key in dict1.keys():\n",
    "        if key in mylist:\n",
    "            pass\n",
    "        else:\n",
    "            newdict[key]=dict1[key]\n",
    "    return newdict"
   ]
  },
  {
   "cell_type": "code",
   "execution_count": 2,
   "id": "0def6028",
   "metadata": {},
   "outputs": [
    {
     "data": {
      "text/plain": [
       "{'age': 22, 'Marks': 85, 'Math': 20}"
      ]
     },
     "execution_count": 2,
     "metadata": {},
     "output_type": "execute_result"
    }
   ],
   "source": [
    "dict1={'name':'Aditya',\"age\":22,\"gender\":\"Male\",\"Marks\":85,\"Math\":20}\n",
    "mylist=['name','computer','science','gender']\n",
    "\n",
    "fun(dict1,mylist)"
   ]
  },
  {
   "cell_type": "markdown",
   "id": "9f4ee5ca",
   "metadata": {},
   "source": []
  }
 ],
 "metadata": {
  "kernelspec": {
   "display_name": "Python 3 (ipykernel)",
   "language": "python",
   "name": "python3"
  },
  "language_info": {
   "codemirror_mode": {
    "name": "ipython",
    "version": 3
   },
   "file_extension": ".py",
   "mimetype": "text/x-python",
   "name": "python",
   "nbconvert_exporter": "python",
   "pygments_lexer": "ipython3",
   "version": "3.9.7"
  }
 },
 "nbformat": 4,
 "nbformat_minor": 5
}
