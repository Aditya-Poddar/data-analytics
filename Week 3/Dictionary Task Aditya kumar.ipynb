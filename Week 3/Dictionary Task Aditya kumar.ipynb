{
 "cells": [
  {
   "cell_type": "markdown",
   "id": "30ef5b42",
   "metadata": {},
   "source": [
    "## 1. Write a Python function that takes in two dictionaries and returns a dictionary that contains only the keys that are present in both dictionaries."
   ]
  },
  {
   "cell_type": "code",
   "execution_count": null,
   "id": "8646538e",
   "metadata": {},
   "outputs": [],
   "source": [
    "dict1={\"name\":\"aditya\",\"roll\":\"304\"}\n",
    "dict2={\"name\":\"Raju\",\"subject\":\"CSE\"}\n",
    "dict3={}\n",
    "def fun(dict1,dict2):\n",
    "    for key in dict1.keys():\n",
    "        if key in dict2.keys(): # using membership opertaor \"in\" or \"not in\"\n",
    "            dict3[key]=dict1[key]\n",
    "    return dict3\n",
    "\n",
    "fun(dict1,dict2)\n"
   ]
  },
  {
   "cell_type": "code",
   "execution_count": null,
   "id": "5a9142c2",
   "metadata": {},
   "outputs": [],
   "source": [
    "# key=[]\n",
    "# dict4={}\n",
    "# for i in range(int(input(\"How many key you want to add:\"))):\n",
    "#     key.append(input(\"Enter {} key name:\".format(i+1)))\n",
    "#     dict4[key[i]]=input(\"Enter {} key value:\".format(i+1))\n",
    "    \n",
    "# dict4"
   ]
  },
  {
   "cell_type": "code",
   "execution_count": null,
   "id": "99c7403a",
   "metadata": {},
   "outputs": [],
   "source": [
    "def program1():\n",
    "    key=[]\n",
    "    diclist=[]\n",
    "    dictnew={}\n",
    "    for j in range(int(input(\"Enter the no. of dict:\"))):\n",
    "        for i in range(int(input(\"How many items you want in each dictionary:\"))):\n",
    "            key.append(input(\"enter the {} key name :\".format(i+1)))\n",
    "            dictnew[key[i]]=input(\"enter the {} key value:\".format(i+1))\n",
    "            diclist.append(dictnew)\n",
    "    return diclist\n",
    "            "
   ]
  },
  {
   "cell_type": "code",
   "execution_count": null,
   "id": "c0a20687",
   "metadata": {},
   "outputs": [],
   "source": [
    "program1()"
   ]
  },
  {
   "cell_type": "markdown",
   "id": "4260c507",
   "metadata": {},
   "source": [
    "## 2. Write a Python function that takes in a list of dictionaries and a key, and returns a new list of dictionaries sorted by the value of the specified key in each dictionary."
   ]
  },
  {
   "cell_type": "markdown",
   "id": "3e3c4c93",
   "metadata": {},
   "source": [
    "## Write a Python function that takes in a dictionary and returns the key with the maximum value."
   ]
  },
  {
   "cell_type": "code",
   "execution_count": 9,
   "id": "f1878284",
   "metadata": {},
   "outputs": [],
   "source": [
    "def fun(dict1):\n",
    "    newlist=[]\n",
    "    newdict={}\n",
    "    \n",
    "    for key in dict1.keys():\n",
    "        newlist.append(dict1[key])\n",
    "    maximum=max(newlist)\n",
    "\n",
    "    for key in dict1.keys():\n",
    "        if dict1[key]==maximum:\n",
    "            newdict[key]=maximum\n",
    "        else:\n",
    "            pass\n",
    "    return newdict"
   ]
  },
  {
   "cell_type": "code",
   "execution_count": 10,
   "id": "435b5ca1",
   "metadata": {},
   "outputs": [
    {
     "data": {
      "text/plain": [
       "{'Marks': 85}"
      ]
     },
     "execution_count": 10,
     "metadata": {},
     "output_type": "execute_result"
    }
   ],
   "source": [
    "dict1={\"age\":22,\"Marks\":85,\"Math\":20,'Science':75}\n",
    "fun(dict1)\n"
   ]
  },
  {
   "cell_type": "markdown",
   "id": "f831fc58",
   "metadata": {},
   "source": [
    "## 4. Write a Python function that takes in a dictionary and returns a new dictionary that contains only the keys that have even values."
   ]
  },
  {
   "cell_type": "code",
   "execution_count": 16,
   "id": "4208065a",
   "metadata": {},
   "outputs": [],
   "source": [
    "def fun(dict1):\n",
    "    dictnew={}\n",
    "    for key in dict1.keys():\n",
    "        try:\n",
    "            if int(dict1[key]) % 2 == 0:\n",
    "                dictnew[key]=dict1[key]\n",
    "        except:\n",
    "            pass\n",
    "\n",
    "    return dictnew"
   ]
  },
  {
   "cell_type": "code",
   "execution_count": 17,
   "id": "4891c451",
   "metadata": {},
   "outputs": [
    {
     "data": {
      "text/plain": [
       "{'age': 22, 'Math': 20}"
      ]
     },
     "execution_count": 17,
     "metadata": {},
     "output_type": "execute_result"
    }
   ],
   "source": [
    "dict1={'name':'Aditya',\"age\":22,\"gender\":\"Male\",\"Marks\":85,\"Math\":20}\n",
    "fun(dict1)\n",
    "# dict1.items()"
   ]
  },
  {
   "cell_type": "code",
   "execution_count": null,
   "id": "5c2cb972",
   "metadata": {},
   "outputs": [],
   "source": []
  },
  {
   "cell_type": "markdown",
   "id": "914012b1",
   "metadata": {},
   "source": [
    "## Write a Python function that takes in a dictionary and a list of keys, and returns a new dictionary that contains only the keys that are not present in the list."
   ]
  },
  {
   "cell_type": "code",
   "execution_count": 18,
   "id": "e8e6bf04",
   "metadata": {},
   "outputs": [],
   "source": [
    "def fun(dict1,mylist):\n",
    "    newdict={}\n",
    "    for key in dict1.keys():\n",
    "        if key in mylist:\n",
    "            pass\n",
    "        else:\n",
    "            newdict[key]=dict1[key]\n",
    "    return newdict"
   ]
  },
  {
   "cell_type": "code",
   "execution_count": 20,
   "id": "6269d53c",
   "metadata": {},
   "outputs": [
    {
     "data": {
      "text/plain": [
       "{'age': 22, 'Marks': 85, 'Math': 20}"
      ]
     },
     "execution_count": 20,
     "metadata": {},
     "output_type": "execute_result"
    }
   ],
   "source": [
    "dict1={'name':'Aditya',\"age\":22,\"gender\":\"Male\",\"Marks\":85,\"Math\":20}\n",
    "mylist=['name','computer','science','gender']\n",
    "fun(dict1,mylist)"
   ]
  },
  {
   "cell_type": "markdown",
   "id": "84d42e0d",
   "metadata": {},
   "source": [
    "## Write a Python function that takes in a dictionary and a list of keys, and returns a new dictionary that contains only the keys that are present in the dictionary and not in the list"
   ]
  },
  {
   "cell_type": "code",
   "execution_count": 21,
   "id": "389ee6a0",
   "metadata": {},
   "outputs": [],
   "source": [
    "def fun(dict1,mylist):\n",
    "    newdict={}\n",
    "    for key in dict1.keys():\n",
    "        if key in mylist:\n",
    "            newdict[key]=dict1[key]\n",
    "        else:\n",
    "            pass\n",
    "    return newdict"
   ]
  },
  {
   "cell_type": "code",
   "execution_count": 22,
   "id": "0def6028",
   "metadata": {},
   "outputs": [
    {
     "data": {
      "text/plain": [
       "{'name': 'Aditya', 'gender': 'Male'}"
      ]
     },
     "execution_count": 22,
     "metadata": {},
     "output_type": "execute_result"
    }
   ],
   "source": [
    "dict1={'name':'Aditya',\"age\":22,\"gender\":\"Male\",\"Marks\":85,\"Math\":20}\n",
    "mylist=['name','computer','science','gender']\n",
    "fun(dict1,mylist)"
   ]
  },
  {
   "cell_type": "code",
   "execution_count": null,
   "id": "2fb01b43",
   "metadata": {},
   "outputs": [],
   "source": []
  }
 ],
 "metadata": {
  "kernelspec": {
   "display_name": "Python 3 (ipykernel)",
   "language": "python",
   "name": "python3"
  },
  "language_info": {
   "codemirror_mode": {
    "name": "ipython",
    "version": 3
   },
   "file_extension": ".py",
   "mimetype": "text/x-python",
   "name": "python",
   "nbconvert_exporter": "python",
   "pygments_lexer": "ipython3",
   "version": "3.9.7"
  }
 },
 "nbformat": 4,
 "nbformat_minor": 5
}
