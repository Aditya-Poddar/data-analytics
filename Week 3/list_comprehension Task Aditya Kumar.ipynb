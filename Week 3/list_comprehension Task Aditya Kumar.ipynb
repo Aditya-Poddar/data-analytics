{
 "cells": [
  {
   "cell_type": "code",
   "execution_count": null,
   "id": "16b7014f",
   "metadata": {},
   "outputs": [],
   "source": []
  },
  {
   "cell_type": "markdown",
   "id": "a409de3d",
   "metadata": {},
   "source": [
    "## 1. Create a list comprehension to extract all odd numbers from the list [1, 2, 3, 4, 5, 6, 7, 8, 9, 10]."
   ]
  },
  {
   "cell_type": "code",
   "execution_count": 10,
   "id": "6cc8faac",
   "metadata": {},
   "outputs": [
    {
     "name": "stdout",
     "output_type": "stream",
     "text": [
      "Odd Number : [1, 3, 5, 7, 9]\n"
     ]
    }
   ],
   "source": [
    "mylist=[1,2,3,4,5,6,7,8,9,10]\n",
    "print(\"Odd Number :\",[odd for odd in mylist if odd%2!=0])"
   ]
  },
  {
   "cell_type": "markdown",
   "id": "9ef72b5b",
   "metadata": {},
   "source": [
    "## 2. Create a list comprehension to extract all even numbers from the list [1, 2, 3, 4, 5, 6, 7, 8, 9, 10]."
   ]
  },
  {
   "cell_type": "code",
   "execution_count": 11,
   "id": "c026b158",
   "metadata": {},
   "outputs": [
    {
     "name": "stdout",
     "output_type": "stream",
     "text": [
      "Even Number : [2, 4, 6, 8, 10]\n"
     ]
    }
   ],
   "source": [
    "mylist=[1,2,3,4,5,6,7,8,9,10]\n",
    "print(\"Even Number :\",[odd for odd in mylist if odd%2==0])"
   ]
  },
  {
   "cell_type": "markdown",
   "id": "7ce784be",
   "metadata": {},
   "source": [
    "## 3. Create a list comprehension to extract all words from the string \"The quick brown fox jumps over the lazy dog\" that start with the letter \"t\"."
   ]
  },
  {
   "cell_type": "code",
   "execution_count": null,
   "id": "108aa3fb",
   "metadata": {},
   "outputs": [],
   "source": [
    "string=\"The quick brown fox jumps over the lazy dog\"\n"
   ]
  },
  {
   "cell_type": "markdown",
   "id": "384bd8cc",
   "metadata": {},
   "source": [
    "## 4.Create a list comprehension to extract all words from the string \"The quick brown fox jumps over the lazy dog\" that are longer than 4 characters."
   ]
  },
  {
   "cell_type": "code",
   "execution_count": null,
   "id": "5713fcf7",
   "metadata": {},
   "outputs": [],
   "source": []
  },
  {
   "cell_type": "markdown",
   "id": "3d101366",
   "metadata": {},
   "source": [
    "## 5.Create a list comprehension to extract all vowels from the string \"The quick brown fox jumps over the lazy dog\"."
   ]
  },
  {
   "cell_type": "code",
   "execution_count": null,
   "id": "5c067103",
   "metadata": {},
   "outputs": [],
   "source": []
  },
  {
   "cell_type": "markdown",
   "id": "0cf26fd0",
   "metadata": {},
   "source": [
    "## 6.Create a list comprehension to find the sum of all the numbers in the list of lists [[1, 2, 3], [4, 5, 6], [7, 8, 9]]."
   ]
  },
  {
   "cell_type": "code",
   "execution_count": 24,
   "id": "0f613ea4",
   "metadata": {},
   "outputs": [
    {
     "name": "stdout",
     "output_type": "stream",
     "text": [
      "sum of all the numbers in the list of lists 45\n"
     ]
    }
   ],
   "source": [
    "mylist=[[1, 2, 3], [4, 5, 6], [7, 8, 9]]\n",
    "print(\"sum of all the numbers in the list of lists\",sum([sum(x) for x in mylist]))"
   ]
  },
  {
   "cell_type": "code",
   "execution_count": 20,
   "id": "c0d936d2",
   "metadata": {},
   "outputs": [
    {
     "name": "stdout",
     "output_type": "stream",
     "text": [
      "6\n",
      "15\n",
      "24\n"
     ]
    }
   ],
   "source": [
    "mylist=[[1, 2, 3], [4, 5, 6], [7, 8, 9]]\n",
    "for i in mylist:\n",
    "    print(sum(i))"
   ]
  },
  {
   "cell_type": "code",
   "execution_count": null,
   "id": "3b3aec64",
   "metadata": {},
   "outputs": [],
   "source": []
  },
  {
   "cell_type": "markdown",
   "id": "06d25f2e",
   "metadata": {},
   "source": [
    "## 7.Create a list comprehension to flatten the list of lists [[1, 2, 3], [4, 5, 6], [7, 8, 9]]."
   ]
  },
  {
   "cell_type": "code",
   "execution_count": null,
   "id": "86371cd6",
   "metadata": {},
   "outputs": [],
   "source": []
  },
  {
   "cell_type": "markdown",
   "id": "bc4b26ce",
   "metadata": {},
   "source": [
    "## 8.Create a list comprehension to find the common elements between the lists [1, 2, 3, 4, 5] and [4, 5, 6, 7, 8]."
   ]
  },
  {
   "cell_type": "code",
   "execution_count": null,
   "id": "caded7b4",
   "metadata": {},
   "outputs": [],
   "source": []
  },
  {
   "cell_type": "markdown",
   "id": "c5647d60",
   "metadata": {},
   "source": [
    "## 9.Create a list comprehension to find the elements in the list [1, 2, 3, 4, 5] that are not in the list [4, 5, 6, 7, 8]."
   ]
  },
  {
   "cell_type": "code",
   "execution_count": null,
   "id": "e262a6f8",
   "metadata": {},
   "outputs": [],
   "source": []
  },
  {
   "cell_type": "markdown",
   "id": "3c800bb4",
   "metadata": {},
   "source": [
    "## 10. Create a list comprehension to find the indices of the number 3 in the list [1, 2, 3, 4, 5, 6, 7, 8, 9]."
   ]
  },
  {
   "cell_type": "code",
   "execution_count": null,
   "id": "d17da02d",
   "metadata": {},
   "outputs": [],
   "source": []
  },
  {
   "cell_type": "markdown",
   "id": "8a59bc88",
   "metadata": {},
   "source": [
    "## 11.Create a list comprehension to extract all prime numbers from the list [2, 3, 5, 7, 9, 11, 13, 17, 19, 23, 29]."
   ]
  },
  {
   "cell_type": "code",
   "execution_count": null,
   "id": "d4e44323",
   "metadata": {},
   "outputs": [],
   "source": []
  },
  {
   "cell_type": "markdown",
   "id": "4a9bc66d",
   "metadata": {},
   "source": [
    "## 12.Create a list comprehension to extract all palindromes from the list ['racecar', 'level', 'deified', 'mom']."
   ]
  },
  {
   "cell_type": "code",
   "execution_count": null,
   "id": "0b6d612b",
   "metadata": {},
   "outputs": [],
   "source": []
  },
  {
   "cell_type": "markdown",
   "id": "fdfaadc7",
   "metadata": {},
   "source": [
    "## 13.Create a list comprehension to find the maximum element in each sublist of the list of lists [[1, 2, 3], [4, 5, 6], [7, 8, 9]]."
   ]
  },
  {
   "cell_type": "code",
   "execution_count": 25,
   "id": "85dbb824",
   "metadata": {},
   "outputs": [
    {
     "name": "stdout",
     "output_type": "stream",
     "text": [
      "Maximum element in each sublist: [3, 6, 9]\n"
     ]
    }
   ],
   "source": [
    "mylist=[[1, 2, 3], [4, 5, 6], [7, 8, 9]]\n",
    "print(\"Maximum element in each sublist:\",[max(x) for x in mylist])"
   ]
  },
  {
   "cell_type": "markdown",
   "id": "0af4058b",
   "metadata": {},
   "source": [
    "## 14.Create a list comprehension to remove all duplicates from the list [1, 2, 3, 4, 3, 5, 6, 1, 2, 7]."
   ]
  },
  {
   "cell_type": "code",
   "execution_count": 26,
   "id": "29cffcf7",
   "metadata": {},
   "outputs": [
    {
     "name": "stdout",
     "output_type": "stream",
     "text": [
      "List after removing all duplicate : [{1, 2, 3, 4, 5, 6, 7}]\n"
     ]
    }
   ],
   "source": [
    "mylist=[1, 2, 3, 4, 3, 5, 6, 1, 2, 7]\n",
    "print(\"List after removing all duplicate :\",[set(mylist)])"
   ]
  },
  {
   "cell_type": "markdown",
   "id": "4fbf0837",
   "metadata": {},
   "source": [
    "## 15.Create a list comprehension to sort the list of strings ['apple', 'banana', 'kiwi', 'orange', 'pear'] by their length."
   ]
  },
  {
   "cell_type": "code",
   "execution_count": 29,
   "id": "6f0fbce9",
   "metadata": {},
   "outputs": [
    {
     "ename": "SyntaxError",
     "evalue": "invalid syntax (2948389158.py, line 2)",
     "output_type": "error",
     "traceback": [
      "\u001b[1;36m  File \u001b[1;32m\"C:\\Users\\AdityaKumar\\AppData\\Local\\Temp\\ipykernel_28364\\2948389158.py\"\u001b[1;36m, line \u001b[1;32m2\u001b[0m\n\u001b[1;33m    print(\"Sorted list of string :\",[sort(for x in mylist len(x),key=str)])\u001b[0m\n\u001b[1;37m                                          ^\u001b[0m\n\u001b[1;31mSyntaxError\u001b[0m\u001b[1;31m:\u001b[0m invalid syntax\n"
     ]
    }
   ],
   "source": [
    "mylist=['apple', 'banana', 'kiwi', 'orange', 'pear'] \n",
    "print(\"Sorted list of string :\",[sort(for x in mylist len(x),key=str)])"
   ]
  },
  {
   "cell_type": "markdown",
   "id": "a91f8753",
   "metadata": {},
   "source": [
    "## 16.Create a list comprehension to remove all whitespace from the string \"The quick brown fox jumps over the lazy dog\"."
   ]
  },
  {
   "cell_type": "code",
   "execution_count": null,
   "id": "308abb5a",
   "metadata": {},
   "outputs": [],
   "source": []
  },
  {
   "cell_type": "markdown",
   "id": "191aa60e",
   "metadata": {},
   "source": [
    "## 17. Create a list comprehension to extract all non-negative numbers from the list [1, -2, 3, -4, 5, -6]."
   ]
  },
  {
   "cell_type": "code",
   "execution_count": 9,
   "id": "e867271c",
   "metadata": {},
   "outputs": [
    {
     "name": "stdout",
     "output_type": "stream",
     "text": [
      "Non Negative Number : [1, 3, 5]\n"
     ]
    }
   ],
   "source": [
    "mylist=[1, -2, 3, -4, 5, -6]\n",
    "print(\"Non Negative Number :\",[x for x in mylist if x>0])"
   ]
  },
  {
   "cell_type": "markdown",
   "id": "b00c918a",
   "metadata": {},
   "source": [
    "## 18.Create a list comprehension to extract all unique characters from the string \"The quick brown fox jumps over the lazy dog\"."
   ]
  },
  {
   "cell_type": "code",
   "execution_count": null,
   "id": "101d4d6e",
   "metadata": {},
   "outputs": [],
   "source": []
  },
  {
   "cell_type": "markdown",
   "id": "04890ca6",
   "metadata": {},
   "source": [
    "## 19.Create a list comprehension to extract all words from the string \"The quick brown fox jumps over the lazy dog\" that contain the substring \"o\"."
   ]
  },
  {
   "cell_type": "code",
   "execution_count": null,
   "id": "19625472",
   "metadata": {},
   "outputs": [],
   "source": []
  }
 ],
 "metadata": {
  "kernelspec": {
   "display_name": "Python 3 (ipykernel)",
   "language": "python",
   "name": "python3"
  },
  "language_info": {
   "codemirror_mode": {
    "name": "ipython",
    "version": 3
   },
   "file_extension": ".py",
   "mimetype": "text/x-python",
   "name": "python",
   "nbconvert_exporter": "python",
   "pygments_lexer": "ipython3",
   "version": "3.9.13"
  }
 },
 "nbformat": 4,
 "nbformat_minor": 5
}
