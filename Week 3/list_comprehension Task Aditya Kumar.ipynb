{
 "cells": [
  {
   "cell_type": "markdown",
   "id": "6fca0fc8",
   "metadata": {},
   "source": [
    "<img src=\"list_comprehension_Task_title.png\" />"
   ]
  },
  {
   "cell_type": "markdown",
   "id": "b67d440e",
   "metadata": {},
   "source": [
    "## 1. Create a list comprehension to extract all odd numbers from the list [1, 2, 3, 4, 5, 6, 7, 8, 9, 10]."
   ]
  },
  {
   "cell_type": "code",
   "execution_count": 47,
   "id": "167d06f4",
   "metadata": {},
   "outputs": [
    {
     "name": "stdout",
     "output_type": "stream",
     "text": [
      "Odd Number = [1, 3, 5, 7, 9]\n"
     ]
    }
   ],
   "source": [
    "mylist=[1,2,3,4,5,6,7,8,9,10]\n",
    "print(\"Odd Number =\",[odd for odd in mylist if odd%2!=0])"
   ]
  },
  {
   "cell_type": "markdown",
   "id": "fd9430cd",
   "metadata": {},
   "source": [
    "## 2. Create a list comprehension to extract all even numbers from the list [1, 2, 3, 4, 5, 6, 7, 8, 9, 10]."
   ]
  },
  {
   "cell_type": "code",
   "execution_count": 48,
   "id": "e752a63c",
   "metadata": {},
   "outputs": [
    {
     "name": "stdout",
     "output_type": "stream",
     "text": [
      "Even Number = [2, 4, 6, 8, 10]\n"
     ]
    }
   ],
   "source": [
    "mylist=[1,2,3,4,5,6,7,8,9,10]\n",
    "print(\"Even Number =\",[odd for odd in mylist if odd%2==0])"
   ]
  },
  {
   "cell_type": "markdown",
   "id": "2f318bdb",
   "metadata": {},
   "source": [
    "## 3. Create a list comprehension to extract all words from the string \"The quick brown fox jumps over the lazy dog\" that start with the letter \"t\"."
   ]
  },
  {
   "cell_type": "code",
   "execution_count": 49,
   "id": "224ed25d",
   "metadata": {},
   "outputs": [
    {
     "name": "stdout",
     "output_type": "stream",
     "text": [
      "words that start with the letter \"t\" = ['the']\n"
     ]
    }
   ],
   "source": [
    "string=\"The quick brown fox jumps over the lazy dog\"\n",
    "print(\"words that start with the letter \\\"t\\\" =\",[x for x in string.split() if x.startswith(\"t\")])"
   ]
  },
  {
   "cell_type": "markdown",
   "id": "522864d5",
   "metadata": {},
   "source": [
    "## 4.Create a list comprehension to extract all words from the string \"The quick brown fox jumps over the lazy dog\" that are longer than 4 characters."
   ]
  },
  {
   "cell_type": "code",
   "execution_count": 46,
   "id": "3053cd43",
   "metadata": {},
   "outputs": [
    {
     "name": "stdout",
     "output_type": "stream",
     "text": [
      "Words that are longer than 4 characters = ['quick', 'brown', 'jumps']\n"
     ]
    }
   ],
   "source": [
    "string=\"The quick brown fox jumps over the lazy dog\"\n",
    "print(\"Words that are longer than 4 characters =\",[x for x in string.split() if len(x)>4])"
   ]
  },
  {
   "cell_type": "markdown",
   "id": "30cb6934",
   "metadata": {},
   "source": [
    "## 5.Create a list comprehension to extract all vowels from the string \"The quick brown fox jumps over the lazy dog\"."
   ]
  },
  {
   "cell_type": "code",
   "execution_count": 50,
   "id": "8cb95056",
   "metadata": {},
   "outputs": [
    {
     "name": "stdout",
     "output_type": "stream",
     "text": [
      "all vowels from the string = ['e', 'u', 'i', 'o', 'o', 'u', 'o', 'e', 'e', 'a', 'o']\n"
     ]
    }
   ],
   "source": [
    "string=\"The quick brown fox jumps over the lazy dog\"\n",
    "vowel=['a','e','i','o','u']\n",
    "print(\"all vowels from the string =\",[x for x in string if x in vowel])"
   ]
  },
  {
   "cell_type": "markdown",
   "id": "2096936b",
   "metadata": {},
   "source": [
    "## 6.Create a list comprehension to find the sum of all the numbers in the list of lists [[1, 2, 3], [4, 5, 6], [7, 8, 9]]."
   ]
  },
  {
   "cell_type": "code",
   "execution_count": 51,
   "id": "cac03285",
   "metadata": {},
   "outputs": [
    {
     "name": "stdout",
     "output_type": "stream",
     "text": [
      "Sum of all the numbers in the list of lists = 45\n"
     ]
    }
   ],
   "source": [
    "mylist=[[1, 2, 3], [4, 5, 6], [7, 8, 9]]\n",
    "print(\"Sum of all the numbers in the list of lists =\",sum([sum(x) for x in mylist]))"
   ]
  },
  {
   "cell_type": "markdown",
   "id": "76a95d03",
   "metadata": {},
   "source": [
    "## 7.Create a list comprehension to flatten the list of lists [[1, 2, 3], [4, 5, 6], [7, 8, 9]]."
   ]
  },
  {
   "cell_type": "code",
   "execution_count": 53,
   "id": "fae179b8",
   "metadata": {},
   "outputs": [
    {
     "name": "stdout",
     "output_type": "stream",
     "text": [
      "Flatten of the list of mylist = [1, 2, 3, 4, 5, 6, 7, 8, 9]\n"
     ]
    }
   ],
   "source": [
    "mylist=[[1, 2, 3], [4, 5, 6], [7, 8, 9]]\n",
    "print('Flatten of the list of mylist =',[x for sublist in mylist for x in sublist])"
   ]
  },
  {
   "cell_type": "markdown",
   "id": "cb8e407d",
   "metadata": {},
   "source": [
    "## 8.Create a list comprehension to find the common elements between the lists [1, 2, 3, 4, 5] and [4, 5, 6, 7, 8]."
   ]
  },
  {
   "cell_type": "code",
   "execution_count": 54,
   "id": "4ed57fd2",
   "metadata": {},
   "outputs": [
    {
     "name": "stdout",
     "output_type": "stream",
     "text": [
      "The elements in the mylist1 that are common in the mylist2 are = [4, 5]\n"
     ]
    }
   ],
   "source": [
    "mylist1=[1, 2, 3, 4, 5]\n",
    "mylist2=[4, 5, 6, 7, 8]\n",
    "print('The elements in the mylist1 that are common in the mylist2 are =',[x for x in mylist1 if x in mylist2])"
   ]
  },
  {
   "cell_type": "markdown",
   "id": "6c0ad7fb",
   "metadata": {},
   "source": [
    "## 9.Create a list comprehension to find the elements in the list [1, 2, 3, 4, 5] that are not in the list [4, 5, 6, 7, 8]."
   ]
  },
  {
   "cell_type": "code",
   "execution_count": 55,
   "id": "82734190",
   "metadata": {},
   "outputs": [
    {
     "name": "stdout",
     "output_type": "stream",
     "text": [
      "The elements in the mylist1 that are not in the mylist2 are = [1, 2, 3]\n"
     ]
    }
   ],
   "source": [
    "mylist1=[1, 2, 3, 4, 5]\n",
    "mylist2=[4, 5, 6, 7, 8]\n",
    "print('The elements in the mylist1 that are not in the mylist2 are =',[x for x in mylist1 if x not in mylist2])"
   ]
  },
  {
   "cell_type": "markdown",
   "id": "ad0171da",
   "metadata": {},
   "source": [
    "## 10. Create a list comprehension to find the indices of the number 3 in the list [1, 2, 3, 4, 5, 6, 7, 8, 9]."
   ]
  },
  {
   "cell_type": "code",
   "execution_count": 118,
   "id": "f0af0b72",
   "metadata": {},
   "outputs": [
    {
     "name": "stdout",
     "output_type": "stream",
     "text": [
      "The indices of the number 3 in the list = [2]\n"
     ]
    }
   ],
   "source": [
    "mylist=[1, 2, 3, 4, 5, 6, 7, 8, 9]\n",
    "print(\"The indices of the number 3 in the list =\",[mylist.index(x) for x in mylist if x==3]) "
   ]
  },
  {
   "cell_type": "markdown",
   "id": "e121c8e9",
   "metadata": {},
   "source": [
    "## 11.Create a list comprehension to extract all prime numbers from the list [2, 3, 5, 7, 9, 11, 13, 17, 19, 23, 29]."
   ]
  },
  {
   "cell_type": "code",
   "execution_count": 151,
   "id": "2315568e",
   "metadata": {},
   "outputs": [
    {
     "name": "stdout",
     "output_type": "stream",
     "text": [
      "All prime numbers from the list = [2, 3, 5, 7, 11, 13, 17, 19, 23, 29]\n"
     ]
    }
   ],
   "source": [
    "mylist=[2, 3, 5, 7, 9, 11, 13, 17, 19, 23, 29]\n",
    "print(\"All prime numbers from the list =\",[x for x in mylist if all(x>1 and x%i!=0 for i in range(2,(x//2)+1))])"
   ]
  },
  {
   "cell_type": "markdown",
   "id": "60eae12f",
   "metadata": {},
   "source": [
    "## 12.Create a list comprehension to extract all palindromes from the list ['racecar', 'level', 'deified', 'mom']."
   ]
  },
  {
   "cell_type": "code",
   "execution_count": 56,
   "id": "73bcb091",
   "metadata": {},
   "outputs": [
    {
     "name": "stdout",
     "output_type": "stream",
     "text": [
      "All palindromes from the list = ['racecar', 'level', 'deified', 'mom']\n"
     ]
    }
   ],
   "source": [
    "mylist=['racecar', 'level', 'deified', 'mom']\n",
    "print('All palindromes from the list =',[x for x in mylist if x==x[::-1]])"
   ]
  },
  {
   "cell_type": "markdown",
   "id": "0830bfcb",
   "metadata": {},
   "source": [
    "## 13.Create a list comprehension to find the maximum element in each sublist of the list of lists [[1, 2, 3], [4, 5, 6], [7, 8, 9]]."
   ]
  },
  {
   "cell_type": "code",
   "execution_count": 57,
   "id": "54848345",
   "metadata": {},
   "outputs": [
    {
     "name": "stdout",
     "output_type": "stream",
     "text": [
      "Maximum element in each sublist = [3, 6, 9]\n"
     ]
    }
   ],
   "source": [
    "mylist=[[1, 2, 3], [4, 5, 6], [7, 8, 9]]\n",
    "print(\"Maximum element in each sublist =\",[max(x) for x in mylist])"
   ]
  },
  {
   "cell_type": "code",
   "execution_count": 20,
   "id": "a10dc81f",
   "metadata": {},
   "outputs": [],
   "source": [
    "# # maximum number in list\n",
    "# mylist=[[1, 2, 3], [4, 5, 6], [7, 8, 9]]\n",
    "# print(\"Maximum element in given list:\",max([max(x) for x in mylist]))"
   ]
  },
  {
   "cell_type": "markdown",
   "id": "514832f2",
   "metadata": {},
   "source": [
    "## 14.Create a list comprehension to remove all duplicates from the list [1, 2, 3, 4, 3, 5, 6, 1, 2, 7]."
   ]
  },
  {
   "cell_type": "code",
   "execution_count": 58,
   "id": "c10b9b0d",
   "metadata": {},
   "outputs": [
    {
     "name": "stdout",
     "output_type": "stream",
     "text": [
      "List after removing all duplicate = [[1, 2, 3, 4, 5, 6, 7]]\n"
     ]
    }
   ],
   "source": [
    "mylist=[1, 2, 3, 4, 3, 5, 6, 1, 2, 7]\n",
    "print(\"List after removing all duplicate =\",[list(set(mylist))])"
   ]
  },
  {
   "cell_type": "markdown",
   "id": "1c38468d",
   "metadata": {},
   "source": [
    "## 15.Create a list comprehension to sort the list of strings ['apple', 'banana', 'kiwi', 'orange', 'pear'] by their length."
   ]
  },
  {
   "cell_type": "code",
   "execution_count": 152,
   "id": "faa051b3",
   "metadata": {},
   "outputs": [
    {
     "name": "stdout",
     "output_type": "stream",
     "text": [
      "Sorted list of string : ['kiwi', 'pear', 'apple', 'banana', 'orange']\n"
     ]
    }
   ],
   "source": [
    "mylist=['apple', 'banana', 'kiwi', 'orange', 'pear'] \n",
    "print(\"Sorted list of string :\",sorted(mylist,key=lambda x:len(x)))"
   ]
  },
  {
   "cell_type": "markdown",
   "id": "2ee4a205",
   "metadata": {},
   "source": [
    "## 16.Create a list comprehension to remove all whitespace from the string \"The quick brown fox jumps over the lazy dog\"."
   ]
  },
  {
   "cell_type": "code",
   "execution_count": 99,
   "id": "88236d5f",
   "metadata": {},
   "outputs": [
    {
     "name": "stdout",
     "output_type": "stream",
     "text": [
      "Removed all whitespace from the string =\n",
      " ['T', 'h', 'e', 'q', 'u', 'i', 'c', 'k', 'b', 'r', 'o', 'w', 'n', 'f', 'o', 'x', 'j', 'u', 'm', 'p', 's', 'o', 'v', 'e', 'r', 't', 'h', 'e', 'l', 'a', 'z', 'y', 'd', 'o', 'g']\n"
     ]
    }
   ],
   "source": [
    "mystring=\"The quick brown fox jumps over the lazy dog\"\n",
    "print(\"Removed all whitespace from the string =\\n\",[x for x in mystring if x.isalpha()])"
   ]
  },
  {
   "cell_type": "markdown",
   "id": "0ee7fe31",
   "metadata": {},
   "source": [
    "#### Another Method printing the string using join"
   ]
  },
  {
   "cell_type": "code",
   "execution_count": 130,
   "id": "4d89eda5",
   "metadata": {},
   "outputs": [
    {
     "name": "stdout",
     "output_type": "stream",
     "text": [
      "After removing all the whitespace i have joined all the character =  Thequickbrownfoxjumpsoverthelazydog\n"
     ]
    }
   ],
   "source": [
    "mystring=\"The quick brown fox jumps over the lazy dog\"\n",
    "print(\"Removed all the whitespace i have joined all the character = \",\"\".join([x for x in mystring.split()]))"
   ]
  },
  {
   "cell_type": "markdown",
   "id": "2bd77dc4",
   "metadata": {},
   "source": [
    "## 17. Create a list comprehension to extract all non-negative numbers from the list [1, -2, 3, -4, 5, -6]."
   ]
  },
  {
   "cell_type": "code",
   "execution_count": 59,
   "id": "03a19134",
   "metadata": {},
   "outputs": [
    {
     "name": "stdout",
     "output_type": "stream",
     "text": [
      "Non Negative Number = [1, 3, 5]\n"
     ]
    }
   ],
   "source": [
    "mylist=[1, -2, 3, -4, 5, -6]\n",
    "print(\"Non Negative Number =\",[x for x in mylist if x>0])"
   ]
  },
  {
   "cell_type": "markdown",
   "id": "62637dfd",
   "metadata": {},
   "source": [
    "## 18.Create a list comprehension to extract all unique characters from the string \"The quick brown fox jumps over the lazy dog\"."
   ]
  },
  {
   "cell_type": "code",
   "execution_count": 62,
   "id": "d33143fb",
   "metadata": {},
   "outputs": [
    {
     "name": "stdout",
     "output_type": "stream",
     "text": [
      "All unique characters from the mystring are following as under =\n",
      "\n",
      " ['g', 'j', 'i', 'o', 'm', 'p', 'q', 'h', 'c', 'k', 'x', 'v', 'l', 'e', 'r', 't', 'T', 'b', 'n', 'f', 'y', 'w', 'd', 's', 'u', 'z', 'a']\n"
     ]
    }
   ],
   "source": [
    "mystring=\"The quick brown fox jumps over the lazy dog\"\n",
    "a=[]\n",
    "print(\"All unique characters from the mystring are following as under =\\n\\n\",list(set([x for x in mystring if x.isalpha()])))"
   ]
  },
  {
   "cell_type": "markdown",
   "id": "e2780671",
   "metadata": {},
   "source": [
    "## 19.Create a list comprehension to extract all words from the string \"The quick brown fox jumps over the lazy dog\" that contain the substring \"o\"."
   ]
  },
  {
   "cell_type": "code",
   "execution_count": 63,
   "id": "e8b8b74e",
   "metadata": {},
   "outputs": [
    {
     "name": "stdout",
     "output_type": "stream",
     "text": [
      "All words from the string that contain the substring \"o\" = ['brown', 'fox', 'over', 'dog']\n"
     ]
    }
   ],
   "source": [
    "mystring=\"The quick brown fox jumps over the lazy dog\"\n",
    "print(\"All words from the string that contain the substring \\\"o\\\" =\",[x for x in mystring.split() if \"o\" in x])"
   ]
  },
  {
   "cell_type": "markdown",
   "id": "2719ff32",
   "metadata": {},
   "source": [
    "# _______________________________"
   ]
  }
 ],
 "metadata": {
  "kernelspec": {
   "display_name": "Python 3 (ipykernel)",
   "language": "python",
   "name": "python3"
  },
  "language_info": {
   "codemirror_mode": {
    "name": "ipython",
    "version": 3
   },
   "file_extension": ".py",
   "mimetype": "text/x-python",
   "name": "python",
   "nbconvert_exporter": "python",
   "pygments_lexer": "ipython3",
   "version": "3.9.13"
  }
 },
 "nbformat": 4,
 "nbformat_minor": 5
}
