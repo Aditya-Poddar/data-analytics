{
 "cells": [
  {
   "cell_type": "code",
   "execution_count": null,
   "id": "5a8ba869",
   "metadata": {},
   "outputs": [],
   "source": []
  },
  {
   "cell_type": "markdown",
   "id": "2c1d6ef7",
   "metadata": {},
   "source": [
    "## 1. Create a list comprehension to extract all odd numbers from the list [1, 2, 3, 4, 5, 6, 7, 8, 9, 10]."
   ]
  },
  {
   "cell_type": "code",
   "execution_count": 6,
   "id": "b81f40bc",
   "metadata": {},
   "outputs": [
    {
     "name": "stdout",
     "output_type": "stream",
     "text": [
      "Odd Number : [1, 3, 5, 7, 9]\n"
     ]
    }
   ],
   "source": [
    "mylist=[1,2,3,4,5,6,7,8,9,10]\n",
    "oddNumber=[odd for odd in mylist if odd%2!=0]\n",
    "print(\"Odd Number :\",oddNumber)"
   ]
  },
  {
   "cell_type": "code",
   "execution_count": 7,
   "id": "b7b070b8",
   "metadata": {},
   "outputs": [
    {
     "name": "stdout",
     "output_type": "stream",
     "text": [
      "[1, 3, 5, 7, 9]\n"
     ]
    }
   ],
   "source": [
    "print([odd for odd in mylist if odd%2!=0])"
   ]
  },
  {
   "cell_type": "markdown",
   "id": "a018cfd6",
   "metadata": {},
   "source": [
    "## 2. Create a list comprehension to extract all even numbers from the list [1, 2, 3, 4, 5, 6, 7, 8, 9, 10]."
   ]
  },
  {
   "cell_type": "code",
   "execution_count": 8,
   "id": "e5a4e1a4",
   "metadata": {},
   "outputs": [
    {
     "name": "stdout",
     "output_type": "stream",
     "text": [
      "Even Number : [2, 4, 6, 8, 10]\n"
     ]
    }
   ],
   "source": [
    "mylist=[1,2,3,4,5,6,7,8,9,10]\n",
    "print(\"Even Number :\",[odd for odd in mylist if odd%2==0])"
   ]
  },
  {
   "cell_type": "markdown",
   "id": "415b87b2",
   "metadata": {},
   "source": [
    "## 3. Create a list comprehension to extract all words from the string \"The quick brown fox jumps over the lazy dog\" that start with the letter \"t\"."
   ]
  },
  {
   "cell_type": "code",
   "execution_count": null,
   "id": "5dfa95ca",
   "metadata": {},
   "outputs": [],
   "source": [
    "string"
   ]
  },
  {
   "cell_type": "markdown",
   "id": "4092ab04",
   "metadata": {},
   "source": [
    "## 4.Create a list comprehension to extract all words from the string \"The quick brown fox jumps over the lazy dog\" that are longer than 4 characters."
   ]
  },
  {
   "cell_type": "code",
   "execution_count": null,
   "id": "2024eadd",
   "metadata": {},
   "outputs": [],
   "source": []
  },
  {
   "cell_type": "markdown",
   "id": "3337df52",
   "metadata": {},
   "source": [
    "## 5.Create a list comprehension to extract all vowels from the string \"The quick brown fox jumps over the lazy dog\"."
   ]
  },
  {
   "cell_type": "code",
   "execution_count": null,
   "id": "e75c2c59",
   "metadata": {},
   "outputs": [],
   "source": []
  },
  {
   "cell_type": "markdown",
   "id": "ed32b086",
   "metadata": {},
   "source": [
    "## 6.Create a list comprehension to find the sum of all the numbers in the list of lists [[1, 2, 3], [4, 5, 6], [7, 8, 9]]."
   ]
  },
  {
   "cell_type": "code",
   "execution_count": null,
   "id": "d62bcacd",
   "metadata": {},
   "outputs": [],
   "source": []
  },
  {
   "cell_type": "markdown",
   "id": "a6119106",
   "metadata": {},
   "source": [
    "## 7.Create a list comprehension to flatten the list of lists [[1, 2, 3], [4, 5, 6], [7, 8, 9]]."
   ]
  },
  {
   "cell_type": "code",
   "execution_count": null,
   "id": "b2a18377",
   "metadata": {},
   "outputs": [],
   "source": []
  },
  {
   "cell_type": "markdown",
   "id": "c8660d98",
   "metadata": {},
   "source": [
    "## 8.Create a list comprehension to find the common elements between the lists [1, 2, 3, 4, 5] and [4, 5, 6, 7, 8]."
   ]
  },
  {
   "cell_type": "code",
   "execution_count": null,
   "id": "158505f2",
   "metadata": {},
   "outputs": [],
   "source": []
  },
  {
   "cell_type": "markdown",
   "id": "e912c743",
   "metadata": {},
   "source": [
    "## 9.Create a list comprehension to find the elements in the list [1, 2, 3, 4, 5] that are not in the list [4, 5, 6, 7, 8]."
   ]
  },
  {
   "cell_type": "code",
   "execution_count": null,
   "id": "56432b6e",
   "metadata": {},
   "outputs": [],
   "source": []
  },
  {
   "cell_type": "markdown",
   "id": "2f1029b3",
   "metadata": {},
   "source": [
    "## 10. Create a list comprehension to find the indices of the number 3 in the list [1, 2, 3, 4, 5, 6, 7, 8, 9]."
   ]
  },
  {
   "cell_type": "code",
   "execution_count": null,
   "id": "7b993e74",
   "metadata": {},
   "outputs": [],
   "source": []
  },
  {
   "cell_type": "markdown",
   "id": "c017976d",
   "metadata": {},
   "source": [
    "## 11.Create a list comprehension to extract all prime numbers from the list [2, 3, 5, 7, 9, 11, 13, 17, 19, 23, 29]."
   ]
  },
  {
   "cell_type": "code",
   "execution_count": null,
   "id": "66ebbb2c",
   "metadata": {},
   "outputs": [],
   "source": []
  },
  {
   "cell_type": "markdown",
   "id": "93c489d6",
   "metadata": {},
   "source": [
    "## 12.Create a list comprehension to extract all palindromes from the list ['racecar', 'level', 'deified', 'mom']."
   ]
  },
  {
   "cell_type": "code",
   "execution_count": null,
   "id": "dc54691c",
   "metadata": {},
   "outputs": [],
   "source": []
  },
  {
   "cell_type": "markdown",
   "id": "363f9d23",
   "metadata": {},
   "source": [
    "## 13.Create a list comprehension to find the maximum element in each sublist of the list of lists [[1, 2, 3], [4, 5, 6], [7, 8, 9]]."
   ]
  },
  {
   "cell_type": "code",
   "execution_count": null,
   "id": "1f793f87",
   "metadata": {},
   "outputs": [],
   "source": []
  },
  {
   "cell_type": "markdown",
   "id": "9516822e",
   "metadata": {},
   "source": [
    "## 14.Create a list comprehension to remove all duplicates from the list [1, 2, 3, 4, 3, 5, 6, 1, 2, 7]."
   ]
  },
  {
   "cell_type": "code",
   "execution_count": null,
   "id": "973bfd63",
   "metadata": {},
   "outputs": [],
   "source": []
  },
  {
   "cell_type": "markdown",
   "id": "e0895507",
   "metadata": {},
   "source": [
    "## 15.Create a list comprehension to sort the list of strings ['apple', 'banana', 'kiwi', 'orange', 'pear'] by their length."
   ]
  },
  {
   "cell_type": "code",
   "execution_count": null,
   "id": "f58c50e1",
   "metadata": {},
   "outputs": [],
   "source": []
  },
  {
   "cell_type": "markdown",
   "id": "92be1a9d",
   "metadata": {},
   "source": [
    "## 16.Create a list comprehension to remove all whitespace from the string \"The quick brown fox jumps over the lazy dog\"."
   ]
  },
  {
   "cell_type": "code",
   "execution_count": null,
   "id": "d3cc719c",
   "metadata": {},
   "outputs": [],
   "source": []
  },
  {
   "cell_type": "markdown",
   "id": "5c47943a",
   "metadata": {},
   "source": [
    "## 17. Create a list comprehension to extract all non-negative numbers from the list [1, -2, 3, -4, 5, -6]."
   ]
  },
  {
   "cell_type": "code",
   "execution_count": 9,
   "id": "6fadff1f",
   "metadata": {},
   "outputs": [
    {
     "name": "stdout",
     "output_type": "stream",
     "text": [
      "Non Negative Number : [1, 3, 5]\n"
     ]
    }
   ],
   "source": [
    "mylist=[1, -2, 3, -4, 5, -6]\n",
    "print(\"Non Negative Number :\",[x for x in mylist if x>0])"
   ]
  },
  {
   "cell_type": "markdown",
   "id": "b5622ca5",
   "metadata": {},
   "source": [
    "## 18.Create a list comprehension to extract all unique characters from the string \"The quick brown fox jumps over the lazy dog\"."
   ]
  },
  {
   "cell_type": "code",
   "execution_count": null,
   "id": "61f7aac3",
   "metadata": {},
   "outputs": [],
   "source": []
  },
  {
   "cell_type": "markdown",
   "id": "2e2d3300",
   "metadata": {},
   "source": [
    "## 19.Create a list comprehension to extract all words from the string \"The quick brown fox jumps over the lazy dog\" that contain the substring \"o\"."
   ]
  },
  {
   "cell_type": "code",
   "execution_count": null,
   "id": "513885d2",
   "metadata": {},
   "outputs": [],
   "source": []
  }
 ],
 "metadata": {
  "kernelspec": {
   "display_name": "Python 3 (ipykernel)",
   "language": "python",
   "name": "python3"
  },
  "language_info": {
   "codemirror_mode": {
    "name": "ipython",
    "version": 3
   },
   "file_extension": ".py",
   "mimetype": "text/x-python",
   "name": "python",
   "nbconvert_exporter": "python",
   "pygments_lexer": "ipython3",
   "version": "3.9.13"
  }
 },
 "nbformat": 4,
 "nbformat_minor": 5
}
