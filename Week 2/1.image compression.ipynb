{
 "cells": [
  {
   "cell_type": "code",
   "execution_count": 2,
   "id": "21beb3bc",
   "metadata": {},
   "outputs": [
    {
     "name": "stdout",
     "output_type": "stream",
     "text": [
      "Defaulting to user installation because normal site-packages is not writeable\n",
      "Requirement already satisfied: pillow in c:\\programdata\\anaconda3\\lib\\site-packages (9.2.0)\n",
      "Note: you may need to restart the kernel to use updated packages.\n"
     ]
    }
   ],
   "source": [
    "pip install pillow"
   ]
  },
  {
   "cell_type": "code",
   "execution_count": 4,
   "id": "eb4bda53",
   "metadata": {},
   "outputs": [],
   "source": [
    "from PIL import Image"
   ]
  },
  {
   "cell_type": "code",
   "execution_count": 19,
   "id": "717dee42",
   "metadata": {},
   "outputs": [],
   "source": [
    "def lambda_handler(image):\n",
    "    # Compress the image\n",
    "    img = Image.open(image)\n",
    "    img.save('compressedImage.jpg', format='JPEG', quality=30)\n",
    "    # Log the success message\n",
    "    print('Successfully stored compressed image .')\n"
   ]
  },
  {
   "cell_type": "code",
   "execution_count": 20,
   "id": "4c3a9324",
   "metadata": {},
   "outputs": [
    {
     "name": "stdout",
     "output_type": "stream",
     "text": [
      "Successfully stored compressed image .\n"
     ]
    }
   ],
   "source": [
    "image='abc.jpg'\n",
    "lambda_handler(image)"
   ]
  },
  {
   "cell_type": "code",
   "execution_count": null,
   "id": "f5f9059c",
   "metadata": {},
   "outputs": [],
   "source": []
  }
 ],
 "metadata": {
  "kernelspec": {
   "display_name": "Python 3 (ipykernel)",
   "language": "python",
   "name": "python3"
  },
  "language_info": {
   "codemirror_mode": {
    "name": "ipython",
    "version": 3
   },
   "file_extension": ".py",
   "mimetype": "text/x-python",
   "name": "python",
   "nbconvert_exporter": "python",
   "pygments_lexer": "ipython3",
   "version": "3.9.13"
  }
 },
 "nbformat": 4,
 "nbformat_minor": 5
}
